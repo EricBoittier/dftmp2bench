{
 "cells": [
  {
   "cell_type": "code",
   "execution_count": 1,
   "id": "f207ec5c-801c-460c-b339-94c3679dcd89",
   "metadata": {},
   "outputs": [
    {
     "name": "stdout",
     "output_type": "stream",
     "text": [
      "<module 'ase.data' from '/cluster/home/schmidtn/master/wahlprak/dftmp2bench/.venv/lib/python3.10/site-packages/ase/data/__init__.py'>\n"
     ]
    }
   ],
   "source": [
    "import ase\n",
    "print(ase.data)"
   ]
  },
  {
   "cell_type": "code",
   "execution_count": null,
   "id": "23c2a75c-f342-46ac-96ba-5718c8e835a0",
   "metadata": {},
   "outputs": [],
   "source": []
  }
 ],
 "metadata": {
  "kernelspec": {
   "display_name": "dftmp2bench",
   "language": "python",
   "name": "dft2mp2bench"
  },
  "language_info": {
   "codemirror_mode": {
    "name": "ipython",
    "version": 3
   },
   "file_extension": ".py",
   "mimetype": "text/x-python",
   "name": "python",
   "nbconvert_exporter": "python",
   "pygments_lexer": "ipython3",
   "version": "3.10.12"
  }
 },
 "nbformat": 4,
 "nbformat_minor": 5
}
