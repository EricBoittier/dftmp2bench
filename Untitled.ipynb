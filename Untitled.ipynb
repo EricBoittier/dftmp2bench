{
 "cells": [
  {
   "cell_type": "code",
   "execution_count": null,
   "id": "f207ec5c-801c-460c-b339-94c3679dcd89",
   "metadata": {},
   "outputs": [],
   "source": []
  }
 ],
 "metadata": {
  "kernelspec": {
   "display_name": "dftmp2bench",
   "language": "python",
   "name": "dft2mp2bench"
  },
  "language_info": {
   "name": ""
  }
 },
 "nbformat": 4,
 "nbformat_minor": 5
}
