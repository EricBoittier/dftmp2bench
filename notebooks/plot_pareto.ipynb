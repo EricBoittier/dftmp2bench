{
 "cells": [
  {
   "cell_type": "code",
   "execution_count": 86,
   "id": "c8f953a0-b137-47fb-9f16-56b82eee6e42",
   "metadata": {},
   "outputs": [],
   "source": [
    "import polars as pl\n",
    "from pathlib import Path\n",
    "import matplotlib.pyplot as plt\n",
    "import sys\n",
    "import ase\n",
    "from ase.units import Hartree, kcal, mol\n",
    "\n",
    "sys.path.append(\"/cluster/home/schmidtn/master/wahlprak/dftmp2bench\")\n",
    "\n",
    "from dftmp2bench.pareto import is_pareto_efficient\n",
    "\n"
   ]
  },
  {
   "cell_type": "code",
   "execution_count": 254,
   "id": "1152face-dccd-43e6-8243-9e6b147879a4",
   "metadata": {},
   "outputs": [],
   "source": [
    "\n",
    "FONTSIZE = 15\n",
    "\n",
    "HF_color = \"maroon\"\n",
    "GGADFT_color = \"lightred\"\n",
    "MGGADFT_color = \"orange\"\n",
    "HDFT_color = \"chartreuse\"\n",
    "DHDFT_color = \"forestgreen\"\n",
    "MP_color = \"wheat\"\n",
    "CC_color = \"gold\"\n",
    "###\n",
    "HF=  \"HF\" \n",
    "GGADFT=  \"GGADFT\" \n",
    "MGGADFT=  \"MGGADFT\" \n",
    "HDFT=  \"HDFT\" \n",
    "DHDFT=  \"DHDFT\"\n",
    "MP=  \"MP\" \n",
    "CC=  \"CC\" \n",
    "####\n",
    "HF_marker = \"o\"\n",
    "GGADFT_marker = \"t\"\n",
    "MGGADFT_marker = \"s\"\n",
    "HDFT_marker = \"p\"\n",
    "DHDFT_marker = \"h\"\n",
    "MP_marker = \"P\"\n",
    "CC_marker = \"*\"\n",
    "####\n",
    "main_pareto_front_color = \"black\"\n",
    "main_pareto_line_style = \"--\"\n",
    "####\n",
    "style_dict = {\n",
    "'wb97xd3': (HDFT_marker, HDFT_color),\n",
    "    'camb3lyp': (HDFT_marker, HDFT_color),\n",
    "    'dlpnoccsdt': (CC_marker, CC_color),\n",
    "    'r2scan-3c': (MGGADFT_marker,MGGADFT_color),\n",
    "    'wb97xd3bj': (HDFT_marker, HDFT_color),\n",
    "       'pbe0': (HDFT_marker, HDFT_color),\n",
    "    'hf': (HF_marker, HF_color),\n",
    "    'PBEh-3c': (HDFT_marker, HDFT_color),\n",
    "    'b2plyp': (DHDFT_marker, DHDFT_color), \n",
    "    'rimp2': (MP_marker, MP_color),\n",
    "    'm062x': (HDFT_marker, HDFT_color),\n",
    "    'wb97xv': (HDFT_marker, HDFT_color),\n",
    "       'b973c': (HDFT_marker, HDFT_color),\n",
    "    'ccsd': (CC_marker, CC_color),\n",
    "    'mp2': (MP_marker, MP_color),\n",
    "}\n",
    "####\n",
    "lot_type_dict = {\n",
    "'wb97xd3': HDFT,\n",
    "    'camb3lyp': HDFT,\n",
    "    'dlpnoccsdt': CC,\n",
    "    'r2scan-3c': MGGADFT,\n",
    "    'wb97xd3bj': HDFT,\n",
    "       'pbe0': HDFT,\n",
    "    'hf': HF,\n",
    "    'PBEh-3c': HDFT,\n",
    "    'b2plyp': DHDFT,\n",
    "    'rimp2': MP,\n",
    "    'm062x': HDFT,\n",
    "    'wb97xv': HDFT,\n",
    "       'b973c': HDFT,\n",
    "    'ccsd': CC,\n",
    "    'mp2': MP,\n",
    "}\n",
    "###\n",
    "theory_type_style_dict = {\n",
    "    'MGGADFT': (MGGADFT_marker,MGGADFT_color),\n",
    "    'HF': (HF_marker, HF_color),\n",
    "    'DHDFT': (DHDFT_marker, DHDFT_color), \n",
    "       'HDFT': (HDFT_marker, HDFT_color),\n",
    "    'CC': (CC_marker, CC_color),\n",
    "    'MP': (MP_marker, MP_color),\n",
    "}\n",
    "\n"
   ]
  },
  {
   "cell_type": "code",
   "execution_count": null,
   "id": "4e24249d-f3ee-466a-9cf4-05ed0af20627",
   "metadata": {},
   "outputs": [],
   "source": []
  },
  {
   "cell_type": "code",
   "execution_count": 87,
   "id": "65c08ec7-e57d-4e99-a62b-bb1c449df671",
   "metadata": {},
   "outputs": [],
   "source": [
    "project_path = Path(\"/cluster/home/schmidtn/master/wahlprak/dftmp2bench\")\n",
    "csv_path = project_path / \"OutputSummary-2025-01-27.csv\"\n",
    "\n",
    "\n",
    "# REF_ENERGY = -25420.402056 # TODO: change"
   ]
  },
  {
   "cell_type": "code",
   "execution_count": 88,
   "id": "b8bf1ee3-a82e-4f29-9259-5245844ce291",
   "metadata": {},
   "outputs": [
    {
     "data": {
      "text/plain": [
       "-25420.402056297025"
      ]
     },
     "execution_count": 88,
     "metadata": {},
     "output_type": "execute_result"
    }
   ],
   "source": [
    "REF_LOT = \"mp2\"\n",
    "REF_BASIS = \"6311++g2d2p\"\n",
    "\n",
    "q = (\n",
    "    pl.scan_csv(csv_path)\n",
    "    # .filter(pl.col(\"sepal_length\") > 5)\n",
    "    # .group_by(\"species\")\n",
    "    # .agg(pl.all().sum())\n",
    ")\n",
    "\n",
    "df = q.collect()\n",
    "\n",
    "REF_ENERGY = df.filter(\n",
    "    (pl.col(\"level_of_theory\") == REF_LOT) & (pl.col(\"basis\") == REF_BASIS ) #& pl.col(\"basis\").str.contains(\"\\+\\+\") \n",
    ")[\"energy\"][0]\n",
    "REF_ENERGY"
   ]
  },
  {
   "cell_type": "code",
   "execution_count": 93,
   "id": "aa04e6a9-9bf7-4b10-87a0-bb383412aa65",
   "metadata": {},
   "outputs": [
    {
     "data": {
      "text/html": [
       "<div><style>\n",
       ".dataframe > thead > tr,\n",
       ".dataframe > tbody > tr {\n",
       "  text-align: right;\n",
       "  white-space: pre-wrap;\n",
       "}\n",
       "</style>\n",
       "<small>shape: (12, 12)</small><table border=\"1\" class=\"dataframe\"><thead><tr><th>name</th><th>software</th><th>wall_time</th><th>basis</th><th>level_of_theory</th><th>energy</th><th>nbasis</th><th>unsigned_error</th><th>signed_error</th><th>relative_wall_time</th><th>unsigned_error_kcalmol</th><th>signed_error_kcalmol</th></tr><tr><td>str</td><td>str</td><td>f64</td><td>str</td><td>str</td><td>f64</td><td>i64</td><td>f64</td><td>f64</td><td>f64</td><td>f64</td><td>f64</td></tr></thead><tbody><tr><td>&quot;/cluster/home/schmidtn/master/…</td><td>&quot;gaussian&quot;</td><td>2918.1</td><td>&quot;631+gd&quot;</td><td>&quot;mp2&quot;</td><td>-25399.533512</td><td>407</td><td>20.868544</td><td>20.868544</td><td>0.201291</td><td>481.240069</td><td>481.240069</td></tr><tr><td>&quot;/cluster/home/schmidtn/master/…</td><td>&quot;gaussian&quot;</td><td>3371.0</td><td>&quot;631+gdp&quot;</td><td>&quot;mp2&quot;</td><td>-25404.72798</td><td>476</td><td>15.674076</td><td>15.674076</td><td>0.232532</td><td>361.452789</td><td>361.452789</td></tr><tr><td>&quot;/cluster/home/schmidtn/master/…</td><td>&quot;gaussian&quot;</td><td>14496.9</td><td>&quot;6311++g2d2p&quot;</td><td>&quot;mp2&quot;</td><td>-25420.402056</td><td>743</td><td>0.0</td><td>0.0</td><td>1.0</td><td>0.0</td><td>0.0</td></tr><tr><td>&quot;/cluster/home/schmidtn/master/…</td><td>&quot;gaussian&quot;</td><td>2630.6</td><td>&quot;ccpvdz&quot;</td><td>&quot;mp2&quot;</td><td>-25403.942634</td><td>381</td><td>16.459423</td><td>16.459423</td><td>0.181459</td><td>379.563307</td><td>379.563307</td></tr><tr><td>&quot;/cluster/home/schmidtn/master/…</td><td>&quot;gaussian&quot;</td><td>2396.9</td><td>&quot;def2svp&quot;</td><td>&quot;mp2&quot;</td><td>-25382.873759</td><td>381</td><td>37.528297</td><td>37.528297</td><td>0.165339</td><td>865.423094</td><td>865.423094</td></tr><tr><td>&hellip;</td><td>&hellip;</td><td>&hellip;</td><td>&hellip;</td><td>&hellip;</td><td>&hellip;</td><td>&hellip;</td><td>&hellip;</td><td>&hellip;</td><td>&hellip;</td><td>&hellip;</td><td>&hellip;</td></tr><tr><td>&quot;/cluster/home/schmidtn/master/…</td><td>&quot;orca&quot;</td><td>3504.78</td><td>&quot;631+gdp&quot;</td><td>&quot;mp2&quot;</td><td>-25403.788787</td><td>457</td><td>16.613269</td><td>16.613269</td><td>0.241761</td><td>383.111098</td><td>383.111098</td></tr><tr><td>&quot;/cluster/home/schmidtn/master/…</td><td>&quot;orca&quot;</td><td>1800.677</td><td>&quot;ccpvdz&quot;</td><td>&quot;mp2&quot;</td><td>-25403.943883</td><td>381</td><td>16.458173</td><td>16.458173</td><td>0.124211</td><td>379.534485</td><td>379.534485</td></tr><tr><td>&quot;/cluster/home/schmidtn/master/…</td><td>&quot;orca&quot;</td><td>1452.809</td><td>&quot;def2svp&quot;</td><td>&quot;mp2&quot;</td><td>-25382.874663</td><td>381</td><td>37.527394</td><td>37.527394</td><td>0.100215</td><td>865.402263</td><td>865.402263</td></tr><tr><td>&quot;/cluster/home/schmidtn/master/…</td><td>&quot;orca&quot;</td><td>6773.773</td><td>&quot;def2svpd&quot;</td><td>&quot;mp2&quot;</td><td>-25388.591679</td><td>576</td><td>31.810377</td><td>31.810377</td><td>0.467257</td><td>733.56473</td><td>733.56473</td></tr><tr><td>&quot;/cluster/home/schmidtn/master/…</td><td>&quot;orca&quot;</td><td>409.887</td><td>&quot;sto3g&quot;</td><td>&quot;mp2&quot;</td><td>-25027.014774</td><td>118</td><td>393.387282</td><td>393.387282</td><td>0.028274</td><td>9071.726308</td><td>9071.726308</td></tr></tbody></table></div>"
      ],
      "text/plain": [
       "shape: (12, 12)\n",
       "┌───────────┬──────────┬───────────┬───────────┬───┬───────────┬───────────┬───────────┬───────────┐\n",
       "│ name      ┆ software ┆ wall_time ┆ basis     ┆ … ┆ signed_er ┆ relative_ ┆ unsigned_ ┆ signed_er │\n",
       "│ ---       ┆ ---      ┆ ---       ┆ ---       ┆   ┆ ror       ┆ wall_time ┆ error_kca ┆ ror_kcalm │\n",
       "│ str       ┆ str      ┆ f64       ┆ str       ┆   ┆ ---       ┆ ---       ┆ lmol      ┆ ol        │\n",
       "│           ┆          ┆           ┆           ┆   ┆ f64       ┆ f64       ┆ ---       ┆ ---       │\n",
       "│           ┆          ┆           ┆           ┆   ┆           ┆           ┆ f64       ┆ f64       │\n",
       "╞═══════════╪══════════╪═══════════╪═══════════╪═══╪═══════════╪═══════════╪═══════════╪═══════════╡\n",
       "│ /cluster/ ┆ gaussian ┆ 2918.1    ┆ 631+gd    ┆ … ┆ 20.868544 ┆ 0.201291  ┆ 481.24006 ┆ 481.24006 │\n",
       "│ home/schm ┆          ┆           ┆           ┆   ┆           ┆           ┆ 9         ┆ 9         │\n",
       "│ idtn/mast ┆          ┆           ┆           ┆   ┆           ┆           ┆           ┆           │\n",
       "│ er/…      ┆          ┆           ┆           ┆   ┆           ┆           ┆           ┆           │\n",
       "│ /cluster/ ┆ gaussian ┆ 3371.0    ┆ 631+gdp   ┆ … ┆ 15.674076 ┆ 0.232532  ┆ 361.45278 ┆ 361.45278 │\n",
       "│ home/schm ┆          ┆           ┆           ┆   ┆           ┆           ┆ 9         ┆ 9         │\n",
       "│ idtn/mast ┆          ┆           ┆           ┆   ┆           ┆           ┆           ┆           │\n",
       "│ er/…      ┆          ┆           ┆           ┆   ┆           ┆           ┆           ┆           │\n",
       "│ /cluster/ ┆ gaussian ┆ 14496.9   ┆ 6311++g2d ┆ … ┆ 0.0       ┆ 1.0       ┆ 0.0       ┆ 0.0       │\n",
       "│ home/schm ┆          ┆           ┆ 2p        ┆   ┆           ┆           ┆           ┆           │\n",
       "│ idtn/mast ┆          ┆           ┆           ┆   ┆           ┆           ┆           ┆           │\n",
       "│ er/…      ┆          ┆           ┆           ┆   ┆           ┆           ┆           ┆           │\n",
       "│ /cluster/ ┆ gaussian ┆ 2630.6    ┆ ccpvdz    ┆ … ┆ 16.459423 ┆ 0.181459  ┆ 379.56330 ┆ 379.56330 │\n",
       "│ home/schm ┆          ┆           ┆           ┆   ┆           ┆           ┆ 7         ┆ 7         │\n",
       "│ idtn/mast ┆          ┆           ┆           ┆   ┆           ┆           ┆           ┆           │\n",
       "│ er/…      ┆          ┆           ┆           ┆   ┆           ┆           ┆           ┆           │\n",
       "│ /cluster/ ┆ gaussian ┆ 2396.9    ┆ def2svp   ┆ … ┆ 37.528297 ┆ 0.165339  ┆ 865.42309 ┆ 865.42309 │\n",
       "│ home/schm ┆          ┆           ┆           ┆   ┆           ┆           ┆ 4         ┆ 4         │\n",
       "│ idtn/mast ┆          ┆           ┆           ┆   ┆           ┆           ┆           ┆           │\n",
       "│ er/…      ┆          ┆           ┆           ┆   ┆           ┆           ┆           ┆           │\n",
       "│ …         ┆ …        ┆ …         ┆ …         ┆ … ┆ …         ┆ …         ┆ …         ┆ …         │\n",
       "│ /cluster/ ┆ orca     ┆ 3504.78   ┆ 631+gdp   ┆ … ┆ 16.613269 ┆ 0.241761  ┆ 383.11109 ┆ 383.11109 │\n",
       "│ home/schm ┆          ┆           ┆           ┆   ┆           ┆           ┆ 8         ┆ 8         │\n",
       "│ idtn/mast ┆          ┆           ┆           ┆   ┆           ┆           ┆           ┆           │\n",
       "│ er/…      ┆          ┆           ┆           ┆   ┆           ┆           ┆           ┆           │\n",
       "│ /cluster/ ┆ orca     ┆ 1800.677  ┆ ccpvdz    ┆ … ┆ 16.458173 ┆ 0.124211  ┆ 379.53448 ┆ 379.53448 │\n",
       "│ home/schm ┆          ┆           ┆           ┆   ┆           ┆           ┆ 5         ┆ 5         │\n",
       "│ idtn/mast ┆          ┆           ┆           ┆   ┆           ┆           ┆           ┆           │\n",
       "│ er/…      ┆          ┆           ┆           ┆   ┆           ┆           ┆           ┆           │\n",
       "│ /cluster/ ┆ orca     ┆ 1452.809  ┆ def2svp   ┆ … ┆ 37.527394 ┆ 0.100215  ┆ 865.40226 ┆ 865.40226 │\n",
       "│ home/schm ┆          ┆           ┆           ┆   ┆           ┆           ┆ 3         ┆ 3         │\n",
       "│ idtn/mast ┆          ┆           ┆           ┆   ┆           ┆           ┆           ┆           │\n",
       "│ er/…      ┆          ┆           ┆           ┆   ┆           ┆           ┆           ┆           │\n",
       "│ /cluster/ ┆ orca     ┆ 6773.773  ┆ def2svpd  ┆ … ┆ 31.810377 ┆ 0.467257  ┆ 733.56473 ┆ 733.56473 │\n",
       "│ home/schm ┆          ┆           ┆           ┆   ┆           ┆           ┆           ┆           │\n",
       "│ idtn/mast ┆          ┆           ┆           ┆   ┆           ┆           ┆           ┆           │\n",
       "│ er/…      ┆          ┆           ┆           ┆   ┆           ┆           ┆           ┆           │\n",
       "│ /cluster/ ┆ orca     ┆ 409.887   ┆ sto3g     ┆ … ┆ 393.38728 ┆ 0.028274  ┆ 9071.7263 ┆ 9071.7263 │\n",
       "│ home/schm ┆          ┆           ┆           ┆   ┆ 2         ┆           ┆ 08        ┆ 08        │\n",
       "│ idtn/mast ┆          ┆           ┆           ┆   ┆           ┆           ┆           ┆           │\n",
       "│ er/…      ┆          ┆           ┆           ┆   ┆           ┆           ┆           ┆           │\n",
       "└───────────┴──────────┴───────────┴───────────┴───┴───────────┴───────────┴───────────┴───────────┘"
      ]
     },
     "execution_count": 93,
     "metadata": {},
     "output_type": "execute_result"
    }
   ],
   "source": [
    "df.filter(\n",
    "    (pl.col(\"level_of_theory\") == \"mp2\") & (pl.col(\"nbasis\") > 0) #& pl.col(\"basis\").str.contains(\"\\+\\+\") \n",
    ")"
   ]
  },
  {
   "cell_type": "code",
   "execution_count": 218,
   "id": "db089fc3-6949-4966-8dae-496e0b914284",
   "metadata": {},
   "outputs": [
    {
     "data": {
      "text/html": [
       "<div><style>\n",
       ".dataframe > thead > tr,\n",
       ".dataframe > tbody > tr {\n",
       "  text-align: right;\n",
       "  white-space: pre-wrap;\n",
       "}\n",
       "</style>\n",
       "<small>shape: (148, 13)</small><table border=\"1\" class=\"dataframe\"><thead><tr><th>name</th><th>software</th><th>wall_time</th><th>basis</th><th>level_of_theory</th><th>energy</th><th>nbasis</th><th>unsigned_error</th><th>signed_error</th><th>relative_wall_time</th><th>unsigned_error_kcalmol</th><th>signed_error_kcalmol</th><th>theory_type</th></tr><tr><td>str</td><td>str</td><td>f64</td><td>str</td><td>str</td><td>f64</td><td>i64</td><td>f64</td><td>f64</td><td>f64</td><td>f64</td><td>f64</td><td>list[str]</td></tr></thead><tbody><tr><td>&quot;/cluster/home/schmidtn/master/…</td><td>&quot;gaussian&quot;</td><td>4392.6</td><td>&quot;631+gd&quot;</td><td>&quot;b2plyp&quot;</td><td>-25425.492624</td><td>407</td><td>5.090568</td><td>-5.090568</td><td>0.303003</td><td>117.391276</td><td>-117.391276</td><td>[&quot;DHDFT&quot;, &quot;DHDFT&quot;, … &quot;HDFT&quot;]</td></tr><tr><td>&quot;/cluster/home/schmidtn/master/…</td><td>&quot;gaussian&quot;</td><td>5007.3</td><td>&quot;631+gdp&quot;</td><td>&quot;b2plyp&quot;</td><td>-25426.77686</td><td>476</td><td>6.374804</td><td>-6.374804</td><td>0.345405</td><td>147.006478</td><td>-147.006478</td><td>[&quot;DHDFT&quot;, &quot;DHDFT&quot;, … &quot;HDFT&quot;]</td></tr><tr><td>&quot;/cluster/home/schmidtn/master/…</td><td>&quot;gaussian&quot;</td><td>19182.6</td><td>&quot;6311++g2d2p&quot;</td><td>&quot;b2plyp&quot;</td><td>-25433.065681</td><td>743</td><td>12.663625</td><td>-12.663625</td><td>1.323221</td><td>292.030127</td><td>-292.030127</td><td>[&quot;DHDFT&quot;, &quot;DHDFT&quot;, … &quot;HDFT&quot;]</td></tr><tr><td>&quot;/cluster/home/schmidtn/master/…</td><td>&quot;gaussian&quot;</td><td>3668.2</td><td>&quot;ccpvdz&quot;</td><td>&quot;b2plyp&quot;</td><td>-25426.541292</td><td>381</td><td>6.139236</td><td>-6.139236</td><td>0.253033</td><td>141.574138</td><td>-141.574138</td><td>[&quot;DHDFT&quot;, &quot;DHDFT&quot;, … &quot;HDFT&quot;]</td></tr><tr><td>&quot;/cluster/home/schmidtn/master/…</td><td>&quot;gaussian&quot;</td><td>3120.1</td><td>&quot;def2svp&quot;</td><td>&quot;b2plyp&quot;</td><td>-25406.254485</td><td>381</td><td>14.147572</td><td>14.147572</td><td>0.215225</td><td>326.250755</td><td>326.250755</td><td>[&quot;DHDFT&quot;, &quot;DHDFT&quot;, … &quot;HDFT&quot;]</td></tr><tr><td>&hellip;</td><td>&hellip;</td><td>&hellip;</td><td>&hellip;</td><td>&hellip;</td><td>&hellip;</td><td>&hellip;</td><td>&hellip;</td><td>&hellip;</td><td>&hellip;</td><td>&hellip;</td><td>&hellip;</td><td>&hellip;</td></tr><tr><td>&quot;/cluster/home/schmidtn/master/…</td><td>&quot;orca&quot;</td><td>4636.984</td><td>&quot;ccpvtzf12&quot;</td><td>&quot;wb97xv&quot;</td><td>-25481.633995</td><td>1421</td><td>61.231938</td><td>-61.231938</td><td>0.31986</td><td>1412.042058</td><td>-1412.042058</td><td>[&quot;DHDFT&quot;, &quot;DHDFT&quot;, … &quot;HDFT&quot;]</td></tr><tr><td>&quot;/cluster/home/schmidtn/master/…</td><td>&quot;orca&quot;</td><td>668.147</td><td>&quot;def2svp&quot;</td><td>&quot;wb97xv&quot;</td><td>-25451.98964</td><td>381</td><td>31.587584</td><td>-31.587584</td><td>0.046089</td><td>728.426991</td><td>-728.426991</td><td>[&quot;DHDFT&quot;, &quot;DHDFT&quot;, … &quot;HDFT&quot;]</td></tr><tr><td>&quot;/cluster/home/schmidtn/master/…</td><td>&quot;orca&quot;</td><td>1378.334</td><td>&quot;def2svpd&quot;</td><td>&quot;wb97xv&quot;</td><td>-25454.015023</td><td>576</td><td>33.612966</td><td>-33.612966</td><td>0.095078</td><td>775.133422</td><td>-775.133422</td><td>[&quot;DHDFT&quot;, &quot;DHDFT&quot;, … &quot;HDFT&quot;]</td></tr><tr><td>&quot;/cluster/home/schmidtn/master/…</td><td>&quot;orca&quot;</td><td>1843.665</td><td>&quot;def2tzvpp&quot;</td><td>&quot;wb97xv&quot;</td><td>-25480.572925</td><td>911</td><td>60.170869</td><td>-60.170869</td><td>0.127176</td><td>1387.573215</td><td>-1387.573215</td><td>[&quot;DHDFT&quot;, &quot;DHDFT&quot;, … &quot;HDFT&quot;]</td></tr><tr><td>&quot;/cluster/home/schmidtn/master/…</td><td>&quot;orca&quot;</td><td>396.071</td><td>&quot;sto3g&quot;</td><td>&quot;wb97xv&quot;</td><td>-25144.916656</td><td>118</td><td>275.485401</td><td>275.485401</td><td>0.027321</td><td>6352.844311</td><td>6352.844311</td><td>[&quot;DHDFT&quot;, &quot;DHDFT&quot;, … &quot;HDFT&quot;]</td></tr></tbody></table></div>"
      ],
      "text/plain": [
       "shape: (148, 13)\n",
       "┌───────────┬──────────┬───────────┬───────────┬───┬───────────┬───────────┬───────────┬───────────┐\n",
       "│ name      ┆ software ┆ wall_time ┆ basis     ┆ … ┆ relative_ ┆ unsigned_ ┆ signed_er ┆ theory_ty │\n",
       "│ ---       ┆ ---      ┆ ---       ┆ ---       ┆   ┆ wall_time ┆ error_kca ┆ ror_kcalm ┆ pe        │\n",
       "│ str       ┆ str      ┆ f64       ┆ str       ┆   ┆ ---       ┆ lmol      ┆ ol        ┆ ---       │\n",
       "│           ┆          ┆           ┆           ┆   ┆ f64       ┆ ---       ┆ ---       ┆ list[str] │\n",
       "│           ┆          ┆           ┆           ┆   ┆           ┆ f64       ┆ f64       ┆           │\n",
       "╞═══════════╪══════════╪═══════════╪═══════════╪═══╪═══════════╪═══════════╪═══════════╪═══════════╡\n",
       "│ /cluster/ ┆ gaussian ┆ 4392.6    ┆ 631+gd    ┆ … ┆ 0.303003  ┆ 117.39127 ┆ -117.3912 ┆ [\"DHDFT\", │\n",
       "│ home/schm ┆          ┆           ┆           ┆   ┆           ┆ 6         ┆ 76        ┆ \"DHDFT\",  │\n",
       "│ idtn/mast ┆          ┆           ┆           ┆   ┆           ┆           ┆           ┆ … \"HDFT\"] │\n",
       "│ er/…      ┆          ┆           ┆           ┆   ┆           ┆           ┆           ┆           │\n",
       "│ /cluster/ ┆ gaussian ┆ 5007.3    ┆ 631+gdp   ┆ … ┆ 0.345405  ┆ 147.00647 ┆ -147.0064 ┆ [\"DHDFT\", │\n",
       "│ home/schm ┆          ┆           ┆           ┆   ┆           ┆ 8         ┆ 78        ┆ \"DHDFT\",  │\n",
       "│ idtn/mast ┆          ┆           ┆           ┆   ┆           ┆           ┆           ┆ … \"HDFT\"] │\n",
       "│ er/…      ┆          ┆           ┆           ┆   ┆           ┆           ┆           ┆           │\n",
       "│ /cluster/ ┆ gaussian ┆ 19182.6   ┆ 6311++g2d ┆ … ┆ 1.323221  ┆ 292.03012 ┆ -292.0301 ┆ [\"DHDFT\", │\n",
       "│ home/schm ┆          ┆           ┆ 2p        ┆   ┆           ┆ 7         ┆ 27        ┆ \"DHDFT\",  │\n",
       "│ idtn/mast ┆          ┆           ┆           ┆   ┆           ┆           ┆           ┆ … \"HDFT\"] │\n",
       "│ er/…      ┆          ┆           ┆           ┆   ┆           ┆           ┆           ┆           │\n",
       "│ /cluster/ ┆ gaussian ┆ 3668.2    ┆ ccpvdz    ┆ … ┆ 0.253033  ┆ 141.57413 ┆ -141.5741 ┆ [\"DHDFT\", │\n",
       "│ home/schm ┆          ┆           ┆           ┆   ┆           ┆ 8         ┆ 38        ┆ \"DHDFT\",  │\n",
       "│ idtn/mast ┆          ┆           ┆           ┆   ┆           ┆           ┆           ┆ … \"HDFT\"] │\n",
       "│ er/…      ┆          ┆           ┆           ┆   ┆           ┆           ┆           ┆           │\n",
       "│ /cluster/ ┆ gaussian ┆ 3120.1    ┆ def2svp   ┆ … ┆ 0.215225  ┆ 326.25075 ┆ 326.25075 ┆ [\"DHDFT\", │\n",
       "│ home/schm ┆          ┆           ┆           ┆   ┆           ┆ 5         ┆ 5         ┆ \"DHDFT\",  │\n",
       "│ idtn/mast ┆          ┆           ┆           ┆   ┆           ┆           ┆           ┆ … \"HDFT\"] │\n",
       "│ er/…      ┆          ┆           ┆           ┆   ┆           ┆           ┆           ┆           │\n",
       "│ …         ┆ …        ┆ …         ┆ …         ┆ … ┆ …         ┆ …         ┆ …         ┆ …         │\n",
       "│ /cluster/ ┆ orca     ┆ 4636.984  ┆ ccpvtzf12 ┆ … ┆ 0.31986   ┆ 1412.0420 ┆ -1412.042 ┆ [\"DHDFT\", │\n",
       "│ home/schm ┆          ┆           ┆           ┆   ┆           ┆ 58        ┆ 058       ┆ \"DHDFT\",  │\n",
       "│ idtn/mast ┆          ┆           ┆           ┆   ┆           ┆           ┆           ┆ … \"HDFT\"] │\n",
       "│ er/…      ┆          ┆           ┆           ┆   ┆           ┆           ┆           ┆           │\n",
       "│ /cluster/ ┆ orca     ┆ 668.147   ┆ def2svp   ┆ … ┆ 0.046089  ┆ 728.42699 ┆ -728.4269 ┆ [\"DHDFT\", │\n",
       "│ home/schm ┆          ┆           ┆           ┆   ┆           ┆ 1         ┆ 91        ┆ \"DHDFT\",  │\n",
       "│ idtn/mast ┆          ┆           ┆           ┆   ┆           ┆           ┆           ┆ … \"HDFT\"] │\n",
       "│ er/…      ┆          ┆           ┆           ┆   ┆           ┆           ┆           ┆           │\n",
       "│ /cluster/ ┆ orca     ┆ 1378.334  ┆ def2svpd  ┆ … ┆ 0.095078  ┆ 775.13342 ┆ -775.1334 ┆ [\"DHDFT\", │\n",
       "│ home/schm ┆          ┆           ┆           ┆   ┆           ┆ 2         ┆ 22        ┆ \"DHDFT\",  │\n",
       "│ idtn/mast ┆          ┆           ┆           ┆   ┆           ┆           ┆           ┆ … \"HDFT\"] │\n",
       "│ er/…      ┆          ┆           ┆           ┆   ┆           ┆           ┆           ┆           │\n",
       "│ /cluster/ ┆ orca     ┆ 1843.665  ┆ def2tzvpp ┆ … ┆ 0.127176  ┆ 1387.5732 ┆ -1387.573 ┆ [\"DHDFT\", │\n",
       "│ home/schm ┆          ┆           ┆           ┆   ┆           ┆ 15        ┆ 215       ┆ \"DHDFT\",  │\n",
       "│ idtn/mast ┆          ┆           ┆           ┆   ┆           ┆           ┆           ┆ … \"HDFT\"] │\n",
       "│ er/…      ┆          ┆           ┆           ┆   ┆           ┆           ┆           ┆           │\n",
       "│ /cluster/ ┆ orca     ┆ 396.071   ┆ sto3g     ┆ … ┆ 0.027321  ┆ 6352.8443 ┆ 6352.8443 ┆ [\"DHDFT\", │\n",
       "│ home/schm ┆          ┆           ┆           ┆   ┆           ┆ 11        ┆ 11        ┆ \"DHDFT\",  │\n",
       "│ idtn/mast ┆          ┆           ┆           ┆   ┆           ┆           ┆           ┆ … \"HDFT\"] │\n",
       "│ er/…      ┆          ┆           ┆           ┆   ┆           ┆           ┆           ┆           │\n",
       "└───────────┴──────────┴───────────┴───────────┴───┴───────────┴───────────┴───────────┴───────────┘"
      ]
     },
     "execution_count": 218,
     "metadata": {},
     "output_type": "execute_result"
    }
   ],
   "source": [
    "df = df.sort([\"software\", \"level_of_theory\", \"basis\"])\n",
    "\n",
    "df = df.with_columns(\n",
    "    unsigned_error=abs(pl.col(\"energy\") - REF_ENERGY),\n",
    "    signed_error=pl.col(\"energy\") - REF_ENERGY,\n",
    "    relative_wall_time= pl.col(\"wall_time\") / 14496.9,\n",
    ")\n",
    "\n",
    "theory_type = [lot_type_dict[_] for _ in df[\"level_of_theory\"]]\n",
    "df = df.with_columns(theory_type = theory_type\n",
    ")\n",
    "\n",
    "df = df.with_columns(\n",
    "    unsigned_error_kcalmol = pl.col(\"unsigned_error\") / (kcal/mol),\n",
    "    signed_error_kcalmol = pl.col(\"signed_error\") / (kcal/mol)\n",
    ")\n",
    "\n",
    "df"
   ]
  },
  {
   "cell_type": "code",
   "execution_count": 222,
   "id": "b9fb0e50-f052-4e31-96b8-d712312c05af",
   "metadata": {},
   "outputs": [
    {
     "data": {
      "text/html": [
       "<div><style>\n",
       ".dataframe > thead > tr,\n",
       ".dataframe > tbody > tr {\n",
       "  text-align: right;\n",
       "  white-space: pre-wrap;\n",
       "}\n",
       "</style>\n",
       "<small>shape: (148, 13)</small><table border=\"1\" class=\"dataframe\"><thead><tr><th>name</th><th>software</th><th>wall_time</th><th>basis</th><th>level_of_theory</th><th>energy</th><th>nbasis</th><th>unsigned_error</th><th>signed_error</th><th>relative_wall_time</th><th>unsigned_error_kcalmol</th><th>signed_error_kcalmol</th><th>theory_type</th></tr><tr><td>str</td><td>str</td><td>f64</td><td>str</td><td>str</td><td>f64</td><td>i64</td><td>f64</td><td>f64</td><td>f64</td><td>f64</td><td>f64</td><td>str</td></tr></thead><tbody><tr><td>&quot;/cluster/home/schmidtn/master/…</td><td>&quot;gaussian&quot;</td><td>4392.6</td><td>&quot;631+gd&quot;</td><td>&quot;b2plyp&quot;</td><td>-25425.492624</td><td>407</td><td>5.090568</td><td>-5.090568</td><td>0.303003</td><td>117.391276</td><td>-117.391276</td><td>&quot;DHDFT&quot;</td></tr><tr><td>&quot;/cluster/home/schmidtn/master/…</td><td>&quot;gaussian&quot;</td><td>5007.3</td><td>&quot;631+gdp&quot;</td><td>&quot;b2plyp&quot;</td><td>-25426.77686</td><td>476</td><td>6.374804</td><td>-6.374804</td><td>0.345405</td><td>147.006478</td><td>-147.006478</td><td>&quot;DHDFT&quot;</td></tr><tr><td>&quot;/cluster/home/schmidtn/master/…</td><td>&quot;gaussian&quot;</td><td>19182.6</td><td>&quot;6311++g2d2p&quot;</td><td>&quot;b2plyp&quot;</td><td>-25433.065681</td><td>743</td><td>12.663625</td><td>-12.663625</td><td>1.323221</td><td>292.030127</td><td>-292.030127</td><td>&quot;DHDFT&quot;</td></tr><tr><td>&quot;/cluster/home/schmidtn/master/…</td><td>&quot;gaussian&quot;</td><td>3668.2</td><td>&quot;ccpvdz&quot;</td><td>&quot;b2plyp&quot;</td><td>-25426.541292</td><td>381</td><td>6.139236</td><td>-6.139236</td><td>0.253033</td><td>141.574138</td><td>-141.574138</td><td>&quot;DHDFT&quot;</td></tr><tr><td>&quot;/cluster/home/schmidtn/master/…</td><td>&quot;gaussian&quot;</td><td>3120.1</td><td>&quot;def2svp&quot;</td><td>&quot;b2plyp&quot;</td><td>-25406.254485</td><td>381</td><td>14.147572</td><td>14.147572</td><td>0.215225</td><td>326.250755</td><td>326.250755</td><td>&quot;DHDFT&quot;</td></tr><tr><td>&hellip;</td><td>&hellip;</td><td>&hellip;</td><td>&hellip;</td><td>&hellip;</td><td>&hellip;</td><td>&hellip;</td><td>&hellip;</td><td>&hellip;</td><td>&hellip;</td><td>&hellip;</td><td>&hellip;</td><td>&hellip;</td></tr><tr><td>&quot;/cluster/home/schmidtn/master/…</td><td>&quot;orca&quot;</td><td>4636.984</td><td>&quot;ccpvtzf12&quot;</td><td>&quot;wb97xv&quot;</td><td>-25481.633995</td><td>1421</td><td>61.231938</td><td>-61.231938</td><td>0.31986</td><td>1412.042058</td><td>-1412.042058</td><td>&quot;HDFT&quot;</td></tr><tr><td>&quot;/cluster/home/schmidtn/master/…</td><td>&quot;orca&quot;</td><td>668.147</td><td>&quot;def2svp&quot;</td><td>&quot;wb97xv&quot;</td><td>-25451.98964</td><td>381</td><td>31.587584</td><td>-31.587584</td><td>0.046089</td><td>728.426991</td><td>-728.426991</td><td>&quot;HDFT&quot;</td></tr><tr><td>&quot;/cluster/home/schmidtn/master/…</td><td>&quot;orca&quot;</td><td>1378.334</td><td>&quot;def2svpd&quot;</td><td>&quot;wb97xv&quot;</td><td>-25454.015023</td><td>576</td><td>33.612966</td><td>-33.612966</td><td>0.095078</td><td>775.133422</td><td>-775.133422</td><td>&quot;HDFT&quot;</td></tr><tr><td>&quot;/cluster/home/schmidtn/master/…</td><td>&quot;orca&quot;</td><td>1843.665</td><td>&quot;def2tzvpp&quot;</td><td>&quot;wb97xv&quot;</td><td>-25480.572925</td><td>911</td><td>60.170869</td><td>-60.170869</td><td>0.127176</td><td>1387.573215</td><td>-1387.573215</td><td>&quot;HDFT&quot;</td></tr><tr><td>&quot;/cluster/home/schmidtn/master/…</td><td>&quot;orca&quot;</td><td>396.071</td><td>&quot;sto3g&quot;</td><td>&quot;wb97xv&quot;</td><td>-25144.916656</td><td>118</td><td>275.485401</td><td>275.485401</td><td>0.027321</td><td>6352.844311</td><td>6352.844311</td><td>&quot;HDFT&quot;</td></tr></tbody></table></div>"
      ],
      "text/plain": [
       "shape: (148, 13)\n",
       "┌───────────┬──────────┬───────────┬───────────┬───┬───────────┬───────────┬───────────┬───────────┐\n",
       "│ name      ┆ software ┆ wall_time ┆ basis     ┆ … ┆ relative_ ┆ unsigned_ ┆ signed_er ┆ theory_ty │\n",
       "│ ---       ┆ ---      ┆ ---       ┆ ---       ┆   ┆ wall_time ┆ error_kca ┆ ror_kcalm ┆ pe        │\n",
       "│ str       ┆ str      ┆ f64       ┆ str       ┆   ┆ ---       ┆ lmol      ┆ ol        ┆ ---       │\n",
       "│           ┆          ┆           ┆           ┆   ┆ f64       ┆ ---       ┆ ---       ┆ str       │\n",
       "│           ┆          ┆           ┆           ┆   ┆           ┆ f64       ┆ f64       ┆           │\n",
       "╞═══════════╪══════════╪═══════════╪═══════════╪═══╪═══════════╪═══════════╪═══════════╪═══════════╡\n",
       "│ /cluster/ ┆ gaussian ┆ 4392.6    ┆ 631+gd    ┆ … ┆ 0.303003  ┆ 117.39127 ┆ -117.3912 ┆ DHDFT     │\n",
       "│ home/schm ┆          ┆           ┆           ┆   ┆           ┆ 6         ┆ 76        ┆           │\n",
       "│ idtn/mast ┆          ┆           ┆           ┆   ┆           ┆           ┆           ┆           │\n",
       "│ er/…      ┆          ┆           ┆           ┆   ┆           ┆           ┆           ┆           │\n",
       "│ /cluster/ ┆ gaussian ┆ 5007.3    ┆ 631+gdp   ┆ … ┆ 0.345405  ┆ 147.00647 ┆ -147.0064 ┆ DHDFT     │\n",
       "│ home/schm ┆          ┆           ┆           ┆   ┆           ┆ 8         ┆ 78        ┆           │\n",
       "│ idtn/mast ┆          ┆           ┆           ┆   ┆           ┆           ┆           ┆           │\n",
       "│ er/…      ┆          ┆           ┆           ┆   ┆           ┆           ┆           ┆           │\n",
       "│ /cluster/ ┆ gaussian ┆ 19182.6   ┆ 6311++g2d ┆ … ┆ 1.323221  ┆ 292.03012 ┆ -292.0301 ┆ DHDFT     │\n",
       "│ home/schm ┆          ┆           ┆ 2p        ┆   ┆           ┆ 7         ┆ 27        ┆           │\n",
       "│ idtn/mast ┆          ┆           ┆           ┆   ┆           ┆           ┆           ┆           │\n",
       "│ er/…      ┆          ┆           ┆           ┆   ┆           ┆           ┆           ┆           │\n",
       "│ /cluster/ ┆ gaussian ┆ 3668.2    ┆ ccpvdz    ┆ … ┆ 0.253033  ┆ 141.57413 ┆ -141.5741 ┆ DHDFT     │\n",
       "│ home/schm ┆          ┆           ┆           ┆   ┆           ┆ 8         ┆ 38        ┆           │\n",
       "│ idtn/mast ┆          ┆           ┆           ┆   ┆           ┆           ┆           ┆           │\n",
       "│ er/…      ┆          ┆           ┆           ┆   ┆           ┆           ┆           ┆           │\n",
       "│ /cluster/ ┆ gaussian ┆ 3120.1    ┆ def2svp   ┆ … ┆ 0.215225  ┆ 326.25075 ┆ 326.25075 ┆ DHDFT     │\n",
       "│ home/schm ┆          ┆           ┆           ┆   ┆           ┆ 5         ┆ 5         ┆           │\n",
       "│ idtn/mast ┆          ┆           ┆           ┆   ┆           ┆           ┆           ┆           │\n",
       "│ er/…      ┆          ┆           ┆           ┆   ┆           ┆           ┆           ┆           │\n",
       "│ …         ┆ …        ┆ …         ┆ …         ┆ … ┆ …         ┆ …         ┆ …         ┆ …         │\n",
       "│ /cluster/ ┆ orca     ┆ 4636.984  ┆ ccpvtzf12 ┆ … ┆ 0.31986   ┆ 1412.0420 ┆ -1412.042 ┆ HDFT      │\n",
       "│ home/schm ┆          ┆           ┆           ┆   ┆           ┆ 58        ┆ 058       ┆           │\n",
       "│ idtn/mast ┆          ┆           ┆           ┆   ┆           ┆           ┆           ┆           │\n",
       "│ er/…      ┆          ┆           ┆           ┆   ┆           ┆           ┆           ┆           │\n",
       "│ /cluster/ ┆ orca     ┆ 668.147   ┆ def2svp   ┆ … ┆ 0.046089  ┆ 728.42699 ┆ -728.4269 ┆ HDFT      │\n",
       "│ home/schm ┆          ┆           ┆           ┆   ┆           ┆ 1         ┆ 91        ┆           │\n",
       "│ idtn/mast ┆          ┆           ┆           ┆   ┆           ┆           ┆           ┆           │\n",
       "│ er/…      ┆          ┆           ┆           ┆   ┆           ┆           ┆           ┆           │\n",
       "│ /cluster/ ┆ orca     ┆ 1378.334  ┆ def2svpd  ┆ … ┆ 0.095078  ┆ 775.13342 ┆ -775.1334 ┆ HDFT      │\n",
       "│ home/schm ┆          ┆           ┆           ┆   ┆           ┆ 2         ┆ 22        ┆           │\n",
       "│ idtn/mast ┆          ┆           ┆           ┆   ┆           ┆           ┆           ┆           │\n",
       "│ er/…      ┆          ┆           ┆           ┆   ┆           ┆           ┆           ┆           │\n",
       "│ /cluster/ ┆ orca     ┆ 1843.665  ┆ def2tzvpp ┆ … ┆ 0.127176  ┆ 1387.5732 ┆ -1387.573 ┆ HDFT      │\n",
       "│ home/schm ┆          ┆           ┆           ┆   ┆           ┆ 15        ┆ 215       ┆           │\n",
       "│ idtn/mast ┆          ┆           ┆           ┆   ┆           ┆           ┆           ┆           │\n",
       "│ er/…      ┆          ┆           ┆           ┆   ┆           ┆           ┆           ┆           │\n",
       "│ /cluster/ ┆ orca     ┆ 396.071   ┆ sto3g     ┆ … ┆ 0.027321  ┆ 6352.8443 ┆ 6352.8443 ┆ HDFT      │\n",
       "│ home/schm ┆          ┆           ┆           ┆   ┆           ┆ 11        ┆ 11        ┆           │\n",
       "│ idtn/mast ┆          ┆           ┆           ┆   ┆           ┆           ┆           ┆           │\n",
       "│ er/…      ┆          ┆           ┆           ┆   ┆           ┆           ┆           ┆           │\n",
       "└───────────┴──────────┴───────────┴───────────┴───┴───────────┴───────────┴───────────┴───────────┘"
      ]
     },
     "execution_count": 222,
     "metadata": {},
     "output_type": "execute_result"
    }
   ],
   "source": [
    "def func2(x):\n",
    "    return lot_type_dict[x]\n",
    "\n",
    "\n",
    "df = df.with_columns(theory_type = pl.col(\"level_of_theory\").replace_strict(lot_type_dict)\n",
    ")\n",
    "# df[[\"level_of_theory\", \"theory_type\"]].unique()\n",
    "df"
   ]
  },
  {
   "cell_type": "code",
   "execution_count": 223,
   "id": "8401984c-0b15-4657-8df2-ec02f912676f",
   "metadata": {},
   "outputs": [
    {
     "data": {
      "text/html": [
       "<div><style>\n",
       ".dataframe > thead > tr,\n",
       ".dataframe > tbody > tr {\n",
       "  text-align: right;\n",
       "  white-space: pre-wrap;\n",
       "}\n",
       "</style>\n",
       "<small>shape: (148, 6)</small><table border=\"1\" class=\"dataframe\"><thead><tr><th>software</th><th>level_of_theory</th><th>basis</th><th>wall_time</th><th>energy</th><th>unsigned_error</th></tr><tr><td>str</td><td>str</td><td>str</td><td>f64</td><td>f64</td><td>f64</td></tr></thead><tbody><tr><td>&quot;gaussian&quot;</td><td>&quot;b2plyp&quot;</td><td>&quot;631+gd&quot;</td><td>4392.6</td><td>-25425.492624</td><td>5.090568</td></tr><tr><td>&quot;gaussian&quot;</td><td>&quot;b2plyp&quot;</td><td>&quot;631+gdp&quot;</td><td>5007.3</td><td>-25426.77686</td><td>6.374804</td></tr><tr><td>&quot;gaussian&quot;</td><td>&quot;b2plyp&quot;</td><td>&quot;6311++g2d2p&quot;</td><td>19182.6</td><td>-25433.065681</td><td>12.663625</td></tr><tr><td>&quot;gaussian&quot;</td><td>&quot;b2plyp&quot;</td><td>&quot;ccpvdz&quot;</td><td>3668.2</td><td>-25426.541292</td><td>6.139236</td></tr><tr><td>&quot;gaussian&quot;</td><td>&quot;b2plyp&quot;</td><td>&quot;def2svp&quot;</td><td>3120.1</td><td>-25406.254485</td><td>14.147572</td></tr><tr><td>&hellip;</td><td>&hellip;</td><td>&hellip;</td><td>&hellip;</td><td>&hellip;</td><td>&hellip;</td></tr><tr><td>&quot;orca&quot;</td><td>&quot;wb97xv&quot;</td><td>&quot;ccpvtzf12&quot;</td><td>4636.984</td><td>-25481.633995</td><td>61.231938</td></tr><tr><td>&quot;orca&quot;</td><td>&quot;wb97xv&quot;</td><td>&quot;def2svp&quot;</td><td>668.147</td><td>-25451.98964</td><td>31.587584</td></tr><tr><td>&quot;orca&quot;</td><td>&quot;wb97xv&quot;</td><td>&quot;def2svpd&quot;</td><td>1378.334</td><td>-25454.015023</td><td>33.612966</td></tr><tr><td>&quot;orca&quot;</td><td>&quot;wb97xv&quot;</td><td>&quot;def2tzvpp&quot;</td><td>1843.665</td><td>-25480.572925</td><td>60.170869</td></tr><tr><td>&quot;orca&quot;</td><td>&quot;wb97xv&quot;</td><td>&quot;sto3g&quot;</td><td>396.071</td><td>-25144.916656</td><td>275.485401</td></tr></tbody></table></div>"
      ],
      "text/plain": [
       "shape: (148, 6)\n",
       "┌──────────┬─────────────────┬─────────────┬───────────┬───────────────┬────────────────┐\n",
       "│ software ┆ level_of_theory ┆ basis       ┆ wall_time ┆ energy        ┆ unsigned_error │\n",
       "│ ---      ┆ ---             ┆ ---         ┆ ---       ┆ ---           ┆ ---            │\n",
       "│ str      ┆ str             ┆ str         ┆ f64       ┆ f64           ┆ f64            │\n",
       "╞══════════╪═════════════════╪═════════════╪═══════════╪═══════════════╪════════════════╡\n",
       "│ gaussian ┆ b2plyp          ┆ 631+gd      ┆ 4392.6    ┆ -25425.492624 ┆ 5.090568       │\n",
       "│ gaussian ┆ b2plyp          ┆ 631+gdp     ┆ 5007.3    ┆ -25426.77686  ┆ 6.374804       │\n",
       "│ gaussian ┆ b2plyp          ┆ 6311++g2d2p ┆ 19182.6   ┆ -25433.065681 ┆ 12.663625      │\n",
       "│ gaussian ┆ b2plyp          ┆ ccpvdz      ┆ 3668.2    ┆ -25426.541292 ┆ 6.139236       │\n",
       "│ gaussian ┆ b2plyp          ┆ def2svp     ┆ 3120.1    ┆ -25406.254485 ┆ 14.147572      │\n",
       "│ …        ┆ …               ┆ …           ┆ …         ┆ …             ┆ …              │\n",
       "│ orca     ┆ wb97xv          ┆ ccpvtzf12   ┆ 4636.984  ┆ -25481.633995 ┆ 61.231938      │\n",
       "│ orca     ┆ wb97xv          ┆ def2svp     ┆ 668.147   ┆ -25451.98964  ┆ 31.587584      │\n",
       "│ orca     ┆ wb97xv          ┆ def2svpd    ┆ 1378.334  ┆ -25454.015023 ┆ 33.612966      │\n",
       "│ orca     ┆ wb97xv          ┆ def2tzvpp   ┆ 1843.665  ┆ -25480.572925 ┆ 60.170869      │\n",
       "│ orca     ┆ wb97xv          ┆ sto3g       ┆ 396.071   ┆ -25144.916656 ┆ 275.485401     │\n",
       "└──────────┴─────────────────┴─────────────┴───────────┴───────────────┴────────────────┘"
      ]
     },
     "execution_count": 223,
     "metadata": {},
     "output_type": "execute_result"
    }
   ],
   "source": [
    "df[[\"software\", \"level_of_theory\", \"basis\", \"wall_time\", \"energy\", \"unsigned_error\"]]"
   ]
  },
  {
   "cell_type": "code",
   "execution_count": 224,
   "id": "6113a37f-705c-40d4-8fbd-db6d92878044",
   "metadata": {},
   "outputs": [
    {
     "data": {
      "text/plain": [
       "array(['mp2', 'm062x', 'pbe0', 'PBEh-3c', 'r2scan-3c', 'dlpnoccsdt',\n",
       "       'wb97xd3bj', 'camb3lyp', 'b973c', 'rimp2', 'wb97xd3', 'ccsd',\n",
       "       'b2plyp', 'hf', 'wb97xv'], dtype=object)"
      ]
     },
     "execution_count": 224,
     "metadata": {},
     "output_type": "execute_result"
    }
   ],
   "source": [
    "df[\"level_of_theory\"].unique().to_numpy()"
   ]
  },
  {
   "cell_type": "code",
   "execution_count": 225,
   "id": "dac568f1-389a-4b18-8b69-8cb1d1195c36",
   "metadata": {},
   "outputs": [
    {
     "data": {
      "text/html": [
       "<div><style>\n",
       ".dataframe > thead > tr,\n",
       ".dataframe > tbody > tr {\n",
       "  text-align: right;\n",
       "  white-space: pre-wrap;\n",
       "}\n",
       "</style>\n",
       "<small>shape: (10,)</small><table border=\"1\" class=\"dataframe\"><thead><tr><th>basis</th></tr><tr><td>str</td></tr></thead><tbody><tr><td>&quot;6311++g2d2p&quot;</td></tr><tr><td>&quot;sto3g&quot;</td></tr><tr><td>&quot;631+gd&quot;</td></tr><tr><td>&quot;def2svp&quot;</td></tr><tr><td>&quot;def2svpd&quot;</td></tr><tr><td>&quot;ccpvtzf12&quot;</td></tr><tr><td>&quot;ccpvdzpp&quot;</td></tr><tr><td>&quot;ccpvdz&quot;</td></tr><tr><td>&quot;def2tzvpp&quot;</td></tr><tr><td>&quot;631+gdp&quot;</td></tr></tbody></table></div>"
      ],
      "text/plain": [
       "shape: (10,)\n",
       "Series: 'basis' [str]\n",
       "[\n",
       "\t\"6311++g2d2p\"\n",
       "\t\"sto3g\"\n",
       "\t\"631+gd\"\n",
       "\t\"def2svp\"\n",
       "\t\"def2svpd\"\n",
       "\t\"ccpvtzf12\"\n",
       "\t\"ccpvdzpp\"\n",
       "\t\"ccpvdz\"\n",
       "\t\"def2tzvpp\"\n",
       "\t\"631+gdp\"\n",
       "]"
      ]
     },
     "execution_count": 225,
     "metadata": {},
     "output_type": "execute_result"
    }
   ],
   "source": [
    "df[\"basis\"].unique()"
   ]
  },
  {
   "cell_type": "code",
   "execution_count": 226,
   "id": "8f0831d0-e017-4dca-a175-a53c31d6f349",
   "metadata": {},
   "outputs": [
    {
     "data": {
      "text/html": [
       "<div><style>\n",
       ".dataframe > thead > tr,\n",
       ".dataframe > tbody > tr {\n",
       "  text-align: right;\n",
       "  white-space: pre-wrap;\n",
       "}\n",
       "</style>\n",
       "<small>shape: (9, 2)</small><table border=\"1\" class=\"dataframe\"><thead><tr><th>statistic</th><th>value</th></tr><tr><td>str</td><td>f64</td></tr></thead><tbody><tr><td>&quot;count&quot;</td><td>148.0</td></tr><tr><td>&quot;null_count&quot;</td><td>0.0</td></tr><tr><td>&quot;mean&quot;</td><td>514.52027</td></tr><tr><td>&quot;std&quot;</td><td>286.33479</td></tr><tr><td>&quot;min&quot;</td><td>118.0</td></tr><tr><td>&quot;25%&quot;</td><td>381.0</td></tr><tr><td>&quot;50%&quot;</td><td>450.0</td></tr><tr><td>&quot;75%&quot;</td><td>576.0</td></tr><tr><td>&quot;max&quot;</td><td>1421.0</td></tr></tbody></table></div>"
      ],
      "text/plain": [
       "shape: (9, 2)\n",
       "┌────────────┬───────────┐\n",
       "│ statistic  ┆ value     │\n",
       "│ ---        ┆ ---       │\n",
       "│ str        ┆ f64       │\n",
       "╞════════════╪═══════════╡\n",
       "│ count      ┆ 148.0     │\n",
       "│ null_count ┆ 0.0       │\n",
       "│ mean       ┆ 514.52027 │\n",
       "│ std        ┆ 286.33479 │\n",
       "│ min        ┆ 118.0     │\n",
       "│ 25%        ┆ 381.0     │\n",
       "│ 50%        ┆ 450.0     │\n",
       "│ 75%        ┆ 576.0     │\n",
       "│ max        ┆ 1421.0    │\n",
       "└────────────┴───────────┘"
      ]
     },
     "execution_count": 226,
     "metadata": {},
     "output_type": "execute_result"
    }
   ],
   "source": [
    "df[\"nbasis\"].describe()"
   ]
  },
  {
   "cell_type": "code",
   "execution_count": null,
   "id": "9a5d4ed6-464d-4661-92c6-dc2315039fb4",
   "metadata": {},
   "outputs": [],
   "source": []
  },
  {
   "cell_type": "code",
   "execution_count": 227,
   "id": "0651d897-e8be-417a-b49a-735f2c58320d",
   "metadata": {},
   "outputs": [
    {
     "data": {
      "text/plain": [
       "\u001b[0;31mSignature:\u001b[0m \u001b[0mis_pareto_efficient\u001b[0m\u001b[0;34m(\u001b[0m\u001b[0mcosts\u001b[0m\u001b[0;34m,\u001b[0m \u001b[0mreturn_mask\u001b[0m\u001b[0;34m=\u001b[0m\u001b[0;32mTrue\u001b[0m\u001b[0;34m)\u001b[0m\u001b[0;34m\u001b[0m\u001b[0;34m\u001b[0m\u001b[0m\n",
       "\u001b[0;31mDocstring:\u001b[0m\n",
       "Find the pareto-efficient points\n",
       ":param costs: An (n_points, n_costs) array\n",
       ":param return_mask: True to return a mask\n",
       ":return: An array of indices of pareto-efficient points.\n",
       "    If return_mask is True, this will be an (n_points, ) boolean array\n",
       "    Otherwise it will be a (n_efficient_points, ) integer array of indices.\n",
       "\u001b[0;31mFile:\u001b[0m      ~/master/wahlprak/dftmp2bench/dftmp2bench/pareto.py\n",
       "\u001b[0;31mType:\u001b[0m      function"
      ]
     },
     "metadata": {},
     "output_type": "display_data"
    }
   ],
   "source": [
    "is_pareto_efficient?"
   ]
  },
  {
   "cell_type": "code",
   "execution_count": 228,
   "id": "f2d92797-39a3-41a4-93da-40798b4ea9a9",
   "metadata": {
    "scrolled": true
   },
   "outputs": [
    {
     "data": {
      "text/html": [
       "<div><style>\n",
       ".dataframe > thead > tr,\n",
       ".dataframe > tbody > tr {\n",
       "  text-align: right;\n",
       "  white-space: pre-wrap;\n",
       "}\n",
       "</style>\n",
       "<small>shape: (9, 12)</small><table border=\"1\" class=\"dataframe\"><thead><tr><th>name</th><th>software</th><th>wall_time</th><th>basis</th><th>level_of_theory</th><th>energy</th><th>nbasis</th><th>unsigned_error</th><th>signed_error</th><th>relative_wall_time</th><th>unsigned_error_kcalmol</th><th>signed_error_kcalmol</th></tr><tr><td>str</td><td>str</td><td>f64</td><td>str</td><td>str</td><td>f64</td><td>i64</td><td>f64</td><td>f64</td><td>f64</td><td>f64</td><td>f64</td></tr></thead><tbody><tr><td>&quot;/cluster/home/schmidtn/master/…</td><td>&quot;gaussian&quot;</td><td>13.7</td><td>&quot;sto3g&quot;</td><td>&quot;hf&quot;</td><td>-24999.642933</td><td>118</td><td>420.759123</td><td>420.759123</td><td>0.000945</td><td>9702.93596</td><td>9702.93596</td></tr><tr><td>&quot;/cluster/home/schmidtn/master/…</td><td>&quot;gaussian&quot;</td><td>19.5</td><td>&quot;sto3g&quot;</td><td>&quot;mp2&quot;</td><td>-25027.014006</td><td>118</td><td>393.38805</td><td>393.38805</td><td>0.001345</td><td>9071.744023</td><td>9071.744023</td></tr><tr><td>&quot;/cluster/home/schmidtn/master/…</td><td>&quot;gaussian&quot;</td><td>162.0</td><td>&quot;sto3g&quot;</td><td>&quot;b2plyp&quot;</td><td>-25097.92736</td><td>118</td><td>322.474696</td><td>322.474696</td><td>0.011175</td><td>7436.443213</td><td>7436.443213</td></tr><tr><td>&quot;/cluster/home/schmidtn/master/…</td><td>&quot;gaussian&quot;</td><td>195.9</td><td>&quot;sto3g&quot;</td><td>&quot;camb3lyp&quot;</td><td>-25133.97434</td><td>118</td><td>286.427716</td><td>286.427716</td><td>0.013513</td><td>6605.180093</td><td>6605.180093</td></tr><tr><td>&quot;/cluster/home/schmidtn/master/…</td><td>&quot;orca&quot;</td><td>278.528</td><td>&quot;sto3g&quot;</td><td>&quot;b973c&quot;</td><td>-25466.433325</td><td>450</td><td>46.031269</td><td>-46.031269</td><td>0.019213</td><td>1061.506279</td><td>-1061.506279</td></tr><tr><td>&quot;/cluster/home/schmidtn/master/…</td><td>&quot;orca&quot;</td><td>440.049</td><td>&quot;def2svp&quot;</td><td>&quot;m062x&quot;</td><td>-25447.339811</td><td>381</td><td>26.937754</td><td>-26.937754</td><td>0.030355</td><td>621.199377</td><td>-621.199377</td></tr><tr><td>&quot;/cluster/home/schmidtn/master/…</td><td>&quot;orca&quot;</td><td>542.433</td><td>&quot;def2svp&quot;</td><td>&quot;pbe0&quot;</td><td>-25430.438628</td><td>381</td><td>10.036572</td><td>-10.036572</td><td>0.037417</td><td>231.448854</td><td>-231.448854</td></tr><tr><td>&quot;/cluster/home/schmidtn/master/…</td><td>&quot;orca&quot;</td><td>574.798</td><td>&quot;631+gd&quot;</td><td>&quot;PBEh-3c&quot;</td><td>-25422.929484</td><td>331</td><td>2.527428</td><td>-2.527428</td><td>0.03965</td><td>58.283866</td><td>-58.283866</td></tr><tr><td>&quot;/cluster/home/schmidtn/master/…</td><td>&quot;gaussian&quot;</td><td>14496.9</td><td>&quot;6311++g2d2p&quot;</td><td>&quot;mp2&quot;</td><td>-25420.402056</td><td>743</td><td>0.0</td><td>0.0</td><td>1.0</td><td>0.0</td><td>0.0</td></tr></tbody></table></div>"
      ],
      "text/plain": [
       "shape: (9, 12)\n",
       "┌───────────┬──────────┬───────────┬───────────┬───┬───────────┬───────────┬───────────┬───────────┐\n",
       "│ name      ┆ software ┆ wall_time ┆ basis     ┆ … ┆ signed_er ┆ relative_ ┆ unsigned_ ┆ signed_er │\n",
       "│ ---       ┆ ---      ┆ ---       ┆ ---       ┆   ┆ ror       ┆ wall_time ┆ error_kca ┆ ror_kcalm │\n",
       "│ str       ┆ str      ┆ f64       ┆ str       ┆   ┆ ---       ┆ ---       ┆ lmol      ┆ ol        │\n",
       "│           ┆          ┆           ┆           ┆   ┆ f64       ┆ f64       ┆ ---       ┆ ---       │\n",
       "│           ┆          ┆           ┆           ┆   ┆           ┆           ┆ f64       ┆ f64       │\n",
       "╞═══════════╪══════════╪═══════════╪═══════════╪═══╪═══════════╪═══════════╪═══════════╪═══════════╡\n",
       "│ /cluster/ ┆ gaussian ┆ 13.7      ┆ sto3g     ┆ … ┆ 420.75912 ┆ 0.000945  ┆ 9702.9359 ┆ 9702.9359 │\n",
       "│ home/schm ┆          ┆           ┆           ┆   ┆ 3         ┆           ┆ 6         ┆ 6         │\n",
       "│ idtn/mast ┆          ┆           ┆           ┆   ┆           ┆           ┆           ┆           │\n",
       "│ er/…      ┆          ┆           ┆           ┆   ┆           ┆           ┆           ┆           │\n",
       "│ /cluster/ ┆ gaussian ┆ 19.5      ┆ sto3g     ┆ … ┆ 393.38805 ┆ 0.001345  ┆ 9071.7440 ┆ 9071.7440 │\n",
       "│ home/schm ┆          ┆           ┆           ┆   ┆           ┆           ┆ 23        ┆ 23        │\n",
       "│ idtn/mast ┆          ┆           ┆           ┆   ┆           ┆           ┆           ┆           │\n",
       "│ er/…      ┆          ┆           ┆           ┆   ┆           ┆           ┆           ┆           │\n",
       "│ /cluster/ ┆ gaussian ┆ 162.0     ┆ sto3g     ┆ … ┆ 322.47469 ┆ 0.011175  ┆ 7436.4432 ┆ 7436.4432 │\n",
       "│ home/schm ┆          ┆           ┆           ┆   ┆ 6         ┆           ┆ 13        ┆ 13        │\n",
       "│ idtn/mast ┆          ┆           ┆           ┆   ┆           ┆           ┆           ┆           │\n",
       "│ er/…      ┆          ┆           ┆           ┆   ┆           ┆           ┆           ┆           │\n",
       "│ /cluster/ ┆ gaussian ┆ 195.9     ┆ sto3g     ┆ … ┆ 286.42771 ┆ 0.013513  ┆ 6605.1800 ┆ 6605.1800 │\n",
       "│ home/schm ┆          ┆           ┆           ┆   ┆ 6         ┆           ┆ 93        ┆ 93        │\n",
       "│ idtn/mast ┆          ┆           ┆           ┆   ┆           ┆           ┆           ┆           │\n",
       "│ er/…      ┆          ┆           ┆           ┆   ┆           ┆           ┆           ┆           │\n",
       "│ /cluster/ ┆ orca     ┆ 278.528   ┆ sto3g     ┆ … ┆ -46.03126 ┆ 0.019213  ┆ 1061.5062 ┆ -1061.506 │\n",
       "│ home/schm ┆          ┆           ┆           ┆   ┆ 9         ┆           ┆ 79        ┆ 279       │\n",
       "│ idtn/mast ┆          ┆           ┆           ┆   ┆           ┆           ┆           ┆           │\n",
       "│ er/…      ┆          ┆           ┆           ┆   ┆           ┆           ┆           ┆           │\n",
       "│ /cluster/ ┆ orca     ┆ 440.049   ┆ def2svp   ┆ … ┆ -26.93775 ┆ 0.030355  ┆ 621.19937 ┆ -621.1993 │\n",
       "│ home/schm ┆          ┆           ┆           ┆   ┆ 4         ┆           ┆ 7         ┆ 77        │\n",
       "│ idtn/mast ┆          ┆           ┆           ┆   ┆           ┆           ┆           ┆           │\n",
       "│ er/…      ┆          ┆           ┆           ┆   ┆           ┆           ┆           ┆           │\n",
       "│ /cluster/ ┆ orca     ┆ 542.433   ┆ def2svp   ┆ … ┆ -10.03657 ┆ 0.037417  ┆ 231.44885 ┆ -231.4488 │\n",
       "│ home/schm ┆          ┆           ┆           ┆   ┆ 2         ┆           ┆ 4         ┆ 54        │\n",
       "│ idtn/mast ┆          ┆           ┆           ┆   ┆           ┆           ┆           ┆           │\n",
       "│ er/…      ┆          ┆           ┆           ┆   ┆           ┆           ┆           ┆           │\n",
       "│ /cluster/ ┆ orca     ┆ 574.798   ┆ 631+gd    ┆ … ┆ -2.527428 ┆ 0.03965   ┆ 58.283866 ┆ -58.28386 │\n",
       "│ home/schm ┆          ┆           ┆           ┆   ┆           ┆           ┆           ┆ 6         │\n",
       "│ idtn/mast ┆          ┆           ┆           ┆   ┆           ┆           ┆           ┆           │\n",
       "│ er/…      ┆          ┆           ┆           ┆   ┆           ┆           ┆           ┆           │\n",
       "│ /cluster/ ┆ gaussian ┆ 14496.9   ┆ 6311++g2d ┆ … ┆ 0.0       ┆ 1.0       ┆ 0.0       ┆ 0.0       │\n",
       "│ home/schm ┆          ┆           ┆ 2p        ┆   ┆           ┆           ┆           ┆           │\n",
       "│ idtn/mast ┆          ┆           ┆           ┆   ┆           ┆           ┆           ┆           │\n",
       "│ er/…      ┆          ┆           ┆           ┆   ┆           ┆           ┆           ┆           │\n",
       "└───────────┴──────────┴───────────┴───────────┴───┴───────────┴───────────┴───────────┴───────────┘"
      ]
     },
     "execution_count": 228,
     "metadata": {},
     "output_type": "execute_result"
    }
   ],
   "source": [
    "pareto_front.sort([\"relative_wall_time\", \"unsigned_error_kcalmol\"])"
   ]
  },
  {
   "cell_type": "code",
   "execution_count": 323,
   "id": "3e0e2712-857a-4f92-9d69-06c7d440e4d5",
   "metadata": {},
   "outputs": [
    {
     "name": "stdout",
     "output_type": "stream",
     "text": [
      "MP\n",
      "HDFT\n",
      "CC\n",
      "DHDFT\n",
      "HF\n",
      "MGGADFT\n",
      "!!!\n"
     ]
    },
    {
     "data": {
      "image/png": "[encoded data removed]",
      "text/plain": [
       "<Figure size 640x480 with 1 Axes>"
      ]
     },
     "metadata": {},
     "output_type": "display_data"
    }
   ],
   "source": [
    "\n",
    "for v in df[\"theory_type\"].unique():\n",
    "    print(v)\n",
    "\n",
    "    _df = _df.filter(\n",
    "                 ~(pl.col(\"basis\") == REF_BASIS) & (pl.col(\"level_of_theory\") == REF_LOT)\n",
    "            )\n",
    "\n",
    "    _df = df.filter((pl.col(\"theory_type\") == v))\n",
    "    # print(_df)\n",
    "    plt.scatter(_df[\"relative_wall_time\"], _df[\"unsigned_error_kcalmol\"],\n",
    "                s=(_df[\"nbasis\"])/10,\n",
    "                c=theory_type_style_dict[v][1],\n",
    "                marker=theory_type_style_dict[v][0],\n",
    "               )\n",
    "\n",
    "    _pf = _df.filter(\n",
    "        is_pareto_efficient(\n",
    "            _df[[\"unsigned_error_kcalmol\", \"wall_time\"]].to_numpy())\n",
    "    ).sort([\"relative_wall_time\", \"unsigned_error_kcalmol\"])\n",
    "    # print(_pf, color)\n",
    "    plt.plot(_pf[\"relative_wall_time\"], \n",
    "             _pf[\"unsigned_error_kcalmol\"], \n",
    "             zorder=-1,\n",
    "             linestyle=main_pareto_line_style,\n",
    "            c=theory_type_style_dict[v][1],\n",
    "             alpha=1,\n",
    "            )\n",
    "\n",
    "\n",
    "values_to_compare = df.filter(\n",
    "                 (pl.col(\"basis\") != REF_BASIS) & (pl.col(\"level_of_theory\") != lot)\n",
    "            )\n",
    "\n",
    "values_to_compare_pf = values_to_compare.filter(\n",
    "    is_pareto_efficient(\n",
    "        values_to_compare[[\"unsigned_error_kcalmol\", \"wall_time\"]].to_numpy())\n",
    ").sort([\"relative_wall_time\", \"unsigned_error_kcalmol\"])\n",
    "\n",
    "plt.plot(values_to_compare_pf[\"relative_wall_time\"], \n",
    "         values_to_compare_pf[\"unsigned_error_kcalmol\"], \n",
    "         zorder=-1,\n",
    "         linestyle=main_pareto_line_style,\n",
    "        c=main_pareto_front_color,\n",
    "         alpha=1,\n",
    "        )\n",
    "\n",
    "\n",
    "\n",
    "\n",
    "min_USEkcalmol = min(values_to_compare_pf[\"unsigned_error_kcalmol\"])\n",
    "\n",
    "min_USEkcalmol_rel_wall_time = values_to_compare_pf.filter(pl.col(\"unsigned_error_kcalmol\") == min_USEkcalmol)[\"relative_wall_time\"][0]\n",
    "\n",
    "ax = plt.gca()\n",
    "\n",
    "\n",
    "\n",
    "for _ in values_to_compare_pf.iter_rows():\n",
    "    shift_ = 0\n",
    "    if _[-1] == \"DHDFT\":\n",
    "        print(\"!!!\")\n",
    "        shift_ = 0.3\n",
    "    \n",
    "    ax.text(_[-4] + shift_/100, _[-3] + shift_*10**4, f\"{_[4]}/{_[3]}\", \n",
    "            horizontalalignment='right',\n",
    "            verticalalignment='top',\n",
    "            bbox=dict(boxstyle=\"round\",\n",
    "                   ec=theory_type_style_dict[_[-1]][1],\n",
    "                   fc=theory_type_style_dict[_[-1]][1],\n",
    "                     )\n",
    "           )\n",
    "\n",
    "ax.set_xscale(\"log\")\n",
    "ax.axhline(min_USEkcalmol, xmin=0.422, xmax=1, zorder=-1,\n",
    "           linestyle=main_pareto_line_style,\n",
    "        c=main_pareto_front_color,\n",
    "           alpha=1,\n",
    "        )\n",
    "\n",
    "\n",
    "\n",
    "ax.set_yscale(\"log\")\n",
    "ax.set_xlabel(\"Relative Walltime [a.u]\", fontsize=FONTSIZE)\n",
    "ax.set_ylabel(\"Absolute Error [kcal/mol]\", fontsize=FONTSIZE)\n",
    "\n",
    "from matplotlib.lines import Line2D\n",
    "from matplotlib.patches import Patch\n",
    "legend_elements = [Line2D([0], [0], color=theory_type_style_dict[v][1], lw=4, label=v) for v in df[\"theory_type\"].unique()]\n",
    "# # Create the figure\n",
    "# fig, ax = plt.subplots()\n",
    "ax.legend(handles=legend_elements, title=\"Pareto Frontiers\", loc='center left', bbox_to_anchor=(1, 0.5))\n",
    "plt.savefig(\"test.pdf\")"
   ]
  },
  {
   "cell_type": "code",
   "execution_count": 258,
   "id": "39c1dbf5-1e7c-4c98-80d2-20347404638b",
   "metadata": {},
   "outputs": [
    {
     "data": {
      "text/html": [
       "<div><style>\n",
       ".dataframe > thead > tr,\n",
       ".dataframe > tbody > tr {\n",
       "  text-align: right;\n",
       "  white-space: pre-wrap;\n",
       "}\n",
       "</style>\n",
       "<small>shape: (7, 13)</small><table border=\"1\" class=\"dataframe\"><thead><tr><th>name</th><th>software</th><th>wall_time</th><th>basis</th><th>level_of_theory</th><th>energy</th><th>nbasis</th><th>unsigned_error</th><th>signed_error</th><th>relative_wall_time</th><th>unsigned_error_kcalmol</th><th>signed_error_kcalmol</th><th>theory_type</th></tr><tr><td>str</td><td>str</td><td>f64</td><td>str</td><td>str</td><td>f64</td><td>i64</td><td>f64</td><td>f64</td><td>f64</td><td>f64</td><td>f64</td><td>str</td></tr></thead><tbody><tr><td>&quot;/cluster/home/schmidtn/master/…</td><td>&quot;gaussian&quot;</td><td>13.7</td><td>&quot;sto3g&quot;</td><td>&quot;hf&quot;</td><td>-24999.642933</td><td>118</td><td>420.759123</td><td>420.759123</td><td>0.000945</td><td>9702.93596</td><td>9702.93596</td><td>&quot;HF&quot;</td></tr><tr><td>&quot;/cluster/home/schmidtn/master/…</td><td>&quot;gaussian&quot;</td><td>162.0</td><td>&quot;sto3g&quot;</td><td>&quot;b2plyp&quot;</td><td>-25097.92736</td><td>118</td><td>322.474696</td><td>322.474696</td><td>0.011175</td><td>7436.443213</td><td>7436.443213</td><td>&quot;DHDFT&quot;</td></tr><tr><td>&quot;/cluster/home/schmidtn/master/…</td><td>&quot;gaussian&quot;</td><td>195.9</td><td>&quot;sto3g&quot;</td><td>&quot;camb3lyp&quot;</td><td>-25133.97434</td><td>118</td><td>286.427716</td><td>286.427716</td><td>0.013513</td><td>6605.180093</td><td>6605.180093</td><td>&quot;HDFT&quot;</td></tr><tr><td>&quot;/cluster/home/schmidtn/master/…</td><td>&quot;orca&quot;</td><td>278.528</td><td>&quot;sto3g&quot;</td><td>&quot;b973c&quot;</td><td>-25466.433325</td><td>450</td><td>46.031269</td><td>-46.031269</td><td>0.019213</td><td>1061.506279</td><td>-1061.506279</td><td>&quot;HDFT&quot;</td></tr><tr><td>&quot;/cluster/home/schmidtn/master/…</td><td>&quot;orca&quot;</td><td>440.049</td><td>&quot;def2svp&quot;</td><td>&quot;m062x&quot;</td><td>-25447.339811</td><td>381</td><td>26.937754</td><td>-26.937754</td><td>0.030355</td><td>621.199377</td><td>-621.199377</td><td>&quot;HDFT&quot;</td></tr><tr><td>&quot;/cluster/home/schmidtn/master/…</td><td>&quot;orca&quot;</td><td>542.433</td><td>&quot;def2svp&quot;</td><td>&quot;pbe0&quot;</td><td>-25430.438628</td><td>381</td><td>10.036572</td><td>-10.036572</td><td>0.037417</td><td>231.448854</td><td>-231.448854</td><td>&quot;HDFT&quot;</td></tr><tr><td>&quot;/cluster/home/schmidtn/master/…</td><td>&quot;orca&quot;</td><td>574.798</td><td>&quot;631+gd&quot;</td><td>&quot;PBEh-3c&quot;</td><td>-25422.929484</td><td>331</td><td>2.527428</td><td>-2.527428</td><td>0.03965</td><td>58.283866</td><td>-58.283866</td><td>&quot;HDFT&quot;</td></tr></tbody></table></div>"
      ],
      "text/plain": [
       "shape: (7, 13)\n",
       "┌────────────┬──────────┬───────────┬─────────┬───┬────────────┬───────────┬───────────┬───────────┐\n",
       "│ name       ┆ software ┆ wall_time ┆ basis   ┆ … ┆ relative_w ┆ unsigned_ ┆ signed_er ┆ theory_ty │\n",
       "│ ---        ┆ ---      ┆ ---       ┆ ---     ┆   ┆ all_time   ┆ error_kca ┆ ror_kcalm ┆ pe        │\n",
       "│ str        ┆ str      ┆ f64       ┆ str     ┆   ┆ ---        ┆ lmol      ┆ ol        ┆ ---       │\n",
       "│            ┆          ┆           ┆         ┆   ┆ f64        ┆ ---       ┆ ---       ┆ str       │\n",
       "│            ┆          ┆           ┆         ┆   ┆            ┆ f64       ┆ f64       ┆           │\n",
       "╞════════════╪══════════╪═══════════╪═════════╪═══╪════════════╪═══════════╪═══════════╪═══════════╡\n",
       "│ /cluster/h ┆ gaussian ┆ 13.7      ┆ sto3g   ┆ … ┆ 0.000945   ┆ 9702.9359 ┆ 9702.9359 ┆ HF        │\n",
       "│ ome/schmid ┆          ┆           ┆         ┆   ┆            ┆ 6         ┆ 6         ┆           │\n",
       "│ tn/master/ ┆          ┆           ┆         ┆   ┆            ┆           ┆           ┆           │\n",
       "│ …          ┆          ┆           ┆         ┆   ┆            ┆           ┆           ┆           │\n",
       "│ /cluster/h ┆ gaussian ┆ 162.0     ┆ sto3g   ┆ … ┆ 0.011175   ┆ 7436.4432 ┆ 7436.4432 ┆ DHDFT     │\n",
       "│ ome/schmid ┆          ┆           ┆         ┆   ┆            ┆ 13        ┆ 13        ┆           │\n",
       "│ tn/master/ ┆          ┆           ┆         ┆   ┆            ┆           ┆           ┆           │\n",
       "│ …          ┆          ┆           ┆         ┆   ┆            ┆           ┆           ┆           │\n",
       "│ /cluster/h ┆ gaussian ┆ 195.9     ┆ sto3g   ┆ … ┆ 0.013513   ┆ 6605.1800 ┆ 6605.1800 ┆ HDFT      │\n",
       "│ ome/schmid ┆          ┆           ┆         ┆   ┆            ┆ 93        ┆ 93        ┆           │\n",
       "│ tn/master/ ┆          ┆           ┆         ┆   ┆            ┆           ┆           ┆           │\n",
       "│ …          ┆          ┆           ┆         ┆   ┆            ┆           ┆           ┆           │\n",
       "│ /cluster/h ┆ orca     ┆ 278.528   ┆ sto3g   ┆ … ┆ 0.019213   ┆ 1061.5062 ┆ -1061.506 ┆ HDFT      │\n",
       "│ ome/schmid ┆          ┆           ┆         ┆   ┆            ┆ 79        ┆ 279       ┆           │\n",
       "│ tn/master/ ┆          ┆           ┆         ┆   ┆            ┆           ┆           ┆           │\n",
       "│ …          ┆          ┆           ┆         ┆   ┆            ┆           ┆           ┆           │\n",
       "│ /cluster/h ┆ orca     ┆ 440.049   ┆ def2svp ┆ … ┆ 0.030355   ┆ 621.19937 ┆ -621.1993 ┆ HDFT      │\n",
       "│ ome/schmid ┆          ┆           ┆         ┆   ┆            ┆ 7         ┆ 77        ┆           │\n",
       "│ tn/master/ ┆          ┆           ┆         ┆   ┆            ┆           ┆           ┆           │\n",
       "│ …          ┆          ┆           ┆         ┆   ┆            ┆           ┆           ┆           │\n",
       "│ /cluster/h ┆ orca     ┆ 542.433   ┆ def2svp ┆ … ┆ 0.037417   ┆ 231.44885 ┆ -231.4488 ┆ HDFT      │\n",
       "│ ome/schmid ┆          ┆           ┆         ┆   ┆            ┆ 4         ┆ 54        ┆           │\n",
       "│ tn/master/ ┆          ┆           ┆         ┆   ┆            ┆           ┆           ┆           │\n",
       "│ …          ┆          ┆           ┆         ┆   ┆            ┆           ┆           ┆           │\n",
       "│ /cluster/h ┆ orca     ┆ 574.798   ┆ 631+gd  ┆ … ┆ 0.03965    ┆ 58.283866 ┆ -58.28386 ┆ HDFT      │\n",
       "│ ome/schmid ┆          ┆           ┆         ┆   ┆            ┆           ┆ 6         ┆           │\n",
       "│ tn/master/ ┆          ┆           ┆         ┆   ┆            ┆           ┆           ┆           │\n",
       "│ …          ┆          ┆           ┆         ┆   ┆            ┆           ┆           ┆           │\n",
       "└────────────┴──────────┴───────────┴─────────┴───┴────────────┴───────────┴───────────┴───────────┘"
      ]
     },
     "execution_count": 258,
     "metadata": {},
     "output_type": "execute_result"
    }
   ],
   "source": [
    "values_to_compare_pf"
   ]
  },
  {
   "cell_type": "markdown",
   "id": "0ee360f8-9056-4de9-811f-c7d3fb419d3f",
   "metadata": {},
   "source": [
    "##### plt.plot(values_to_compare_pf[\"relative_wall_time\"], values_to_compare_pf[\"unsigned_error_kcalmol\"])\n"
   ]
  },
  {
   "cell_type": "code",
   "execution_count": 142,
   "id": "5d663a7c-1f00-41f8-ace3-c363ab2c95e6",
   "metadata": {},
   "outputs": [
    {
     "data": {
      "text/html": [
       "<div><style>\n",
       ".dataframe > thead > tr,\n",
       ".dataframe > tbody > tr {\n",
       "  text-align: right;\n",
       "  white-space: pre-wrap;\n",
       "}\n",
       "</style>\n",
       "<small>shape: (1, 12)</small><table border=\"1\" class=\"dataframe\"><thead><tr><th>name</th><th>software</th><th>wall_time</th><th>basis</th><th>level_of_theory</th><th>energy</th><th>nbasis</th><th>unsigned_error</th><th>signed_error</th><th>relative_wall_time</th><th>unsigned_error_kcalmol</th><th>signed_error_kcalmol</th></tr><tr><td>str</td><td>str</td><td>f64</td><td>str</td><td>str</td><td>f64</td><td>i64</td><td>f64</td><td>f64</td><td>f64</td><td>f64</td><td>f64</td></tr></thead><tbody><tr><td>&quot;/cluster/home/schmidtn/master/…</td><td>&quot;gaussian&quot;</td><td>14496.9</td><td>&quot;6311++g2d2p&quot;</td><td>&quot;mp2&quot;</td><td>-25420.402056</td><td>743</td><td>0.0</td><td>0.0</td><td>1.0</td><td>0.0</td><td>0.0</td></tr></tbody></table></div>"
      ],
      "text/plain": [
       "shape: (1, 12)\n",
       "┌───────────┬──────────┬───────────┬───────────┬───┬───────────┬───────────┬───────────┬───────────┐\n",
       "│ name      ┆ software ┆ wall_time ┆ basis     ┆ … ┆ signed_er ┆ relative_ ┆ unsigned_ ┆ signed_er │\n",
       "│ ---       ┆ ---      ┆ ---       ┆ ---       ┆   ┆ ror       ┆ wall_time ┆ error_kca ┆ ror_kcalm │\n",
       "│ str       ┆ str      ┆ f64       ┆ str       ┆   ┆ ---       ┆ ---       ┆ lmol      ┆ ol        │\n",
       "│           ┆          ┆           ┆           ┆   ┆ f64       ┆ f64       ┆ ---       ┆ ---       │\n",
       "│           ┆          ┆           ┆           ┆   ┆           ┆           ┆ f64       ┆ f64       │\n",
       "╞═══════════╪══════════╪═══════════╪═══════════╪═══╪═══════════╪═══════════╪═══════════╪═══════════╡\n",
       "│ /cluster/ ┆ gaussian ┆ 14496.9   ┆ 6311++g2d ┆ … ┆ 0.0       ┆ 1.0       ┆ 0.0       ┆ 0.0       │\n",
       "│ home/schm ┆          ┆           ┆ 2p        ┆   ┆           ┆           ┆           ┆           │\n",
       "│ idtn/mast ┆          ┆           ┆           ┆   ┆           ┆           ┆           ┆           │\n",
       "│ er/…      ┆          ┆           ┆           ┆   ┆           ┆           ┆           ┆           │\n",
       "└───────────┴──────────┴───────────┴───────────┴───┴───────────┴───────────┴───────────┴───────────┘"
      ]
     },
     "execution_count": 142,
     "metadata": {},
     "output_type": "execute_result"
    }
   ],
   "source": [
    "values_to_compare_pf"
   ]
  },
  {
   "cell_type": "code",
   "execution_count": null,
   "id": "1fecd92c-ab10-4504-bf2c-96d76349a3b0",
   "metadata": {},
   "outputs": [],
   "source": []
  }
 ],
 "metadata": {
  "kernelspec": {
   "display_name": "dftmp2bench",
   "language": "python",
   "name": "dft2mp2bench"
  },
  "language_info": {
   "codemirror_mode": {
    "name": "ipython",
    "version": 3
   },
   "file_extension": ".py",
   "mimetype": "text/x-python",
   "name": "python",
   "nbconvert_exporter": "python",
   "pygments_lexer": "ipython3",
   "version": "3.12.8"
  }
 },
 "nbformat": 4,
 "nbformat_minor": 5
}
