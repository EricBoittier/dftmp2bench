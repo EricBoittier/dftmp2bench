{
 "cells": [
  {
   "cell_type": "code",
   "execution_count": 1,
   "id": "c8f953a0-b137-47fb-9f16-56b82eee6e42",
   "metadata": {},
   "outputs": [],
   "source": [
    "import polars as pl\n",
    "from pathlib import Path\n",
    "import matplotlib.pyplot as plt\n",
    "import sys\n",
    "import ase\n",
    "from ase.units import Hartree, kcal, mol\n",
    "\n",
    "from dftmp2bench.pareto import is_pareto_efficient\n",
    "\n"
   ]
  },
  {
   "cell_type": "code",
   "execution_count": 24,
   "id": "1152face-dccd-43e6-8243-9e6b147879a4",
   "metadata": {},
   "outputs": [],
   "source": [
    "\n",
    "FONTSIZE = 15\n",
    "\n",
    "HF_color = \"maroon\"\n",
    "GGADFT_color = \"lightred\"\n",
    "MGGADFT_color = \"orange\"\n",
    "HDFT_color = \"chartreuse\"\n",
    "DHDFT_color = \"forestgreen\"\n",
    "MP_color = \"wheat\"\n",
    "CC_color = \"gold\"\n",
    "###\n",
    "HF=  \"HF\" \n",
    "GGADFT=  \"GGADFT\" \n",
    "MGGADFT=  \"mGGA\" \n",
    "HDFT=  \"HDFT\" \n",
    "DHDFT=  \"DHDFT\"\n",
    "MP=  \"MP\" \n",
    "CC=  \"CC\" \n",
    "####\n",
    "HF_marker = \"o\"\n",
    "GGADFT_marker = \"t\"\n",
    "MGGADFT_marker = \"s\"\n",
    "HDFT_marker = \"p\"\n",
    "DHDFT_marker = \"h\"\n",
    "MP_marker = \"P\"\n",
    "CC_marker = \"*\"\n",
    "####\n",
    "main_pareto_front_color = \"black\"\n",
    "main_pareto_line_style = \"--\"\n",
    "####\n",
    "style_dict = {\n",
    "'wb97xd3': (HDFT_marker, HDFT_color),\n",
    "    'camb3lyp': (HDFT_marker, HDFT_color),\n",
    "    'dlpnoccsdt': (CC_marker, CC_color),\n",
    "    'r2scan-3c': (MGGADFT_marker,MGGADFT_color),\n",
    "    'wb97xd3bj': (HDFT_marker, HDFT_color),\n",
    "       'pbe0': (HDFT_marker, HDFT_color),\n",
    "    'hf': (HF_marker, HF_color),\n",
    "    'PBEh-3c': (HDFT_marker, HDFT_color),\n",
    "    'b2plyp': (DHDFT_marker, DHDFT_color), \n",
    "    'rimp2': (MP_marker, MP_color),\n",
    "    'm062x': (HDFT_marker, HDFT_color),\n",
    "    'wb97xv': (HDFT_marker, HDFT_color),\n",
    "       'b973c': (HDFT_marker, HDFT_color),\n",
    "    'ccsd': (CC_marker, CC_color),\n",
    "    'mp2': (MP_marker, MP_color),\n",
    "}\n",
    "####\n",
    "lot_type_dict = {\n",
    "'wb97xd3': HDFT,\n",
    "    'camb3lyp': HDFT,\n",
    "    'dlpnoccsdt': CC,\n",
    "    'r2scan-3c': MGGADFT,\n",
    "    'wb97xd3bj': HDFT,\n",
    "       'pbe0': HDFT,\n",
    "    'hf': HF,\n",
    "    'PBEh-3c': HDFT,\n",
    "    'b2plyp': DHDFT,\n",
    "    'rimp2': MP,\n",
    "    'm062x': HDFT,\n",
    "    'wb97xv': HDFT,\n",
    "       'b973c': HDFT,\n",
    "    'ccsd': CC,\n",
    "    'mp2': MP,\n",
    "}\n",
    "###\n",
    "theory_type_style_dict = {\n",
    "    'mGGA': (MGGADFT_marker,MGGADFT_color),\n",
    "    'HF': (HF_marker, HF_color),\n",
    "    'DHDFT': (DHDFT_marker, DHDFT_color), \n",
    "       'HDFT': (HDFT_marker, HDFT_color),\n",
    "    'CC': (CC_marker, CC_color),\n",
    "    'MP': (MP_marker, MP_color),\n",
    "}\n",
    "\n"
   ]
  },
  {
   "cell_type": "code",
   "execution_count": null,
   "id": "4e24249d-f3ee-466a-9cf4-05ed0af20627",
   "metadata": {},
   "outputs": [],
   "source": []
  },
  {
   "cell_type": "code",
   "execution_count": 25,
   "id": "65c08ec7-e57d-4e99-a62b-bb1c449df671",
   "metadata": {},
   "outputs": [],
   "source": [
    "project_path = Path(\"/cluster/home/schmidtn/master/wahlprak/dftmp2bench\")\n",
    "csv_path = project_path / \"csvs\" / \"OutputSummary-2025-01-27.csv\"\n",
    "\n",
    "\n",
    "# REF_ENERGY = -25420.402056 # TODO: change"
   ]
  },
  {
   "cell_type": "code",
   "execution_count": 52,
   "id": "b8bf1ee3-a82e-4f29-9259-5245844ce291",
   "metadata": {},
   "outputs": [
    {
     "data": {
      "text/plain": [
       "-25410.280680315704"
      ]
     },
     "execution_count": 52,
     "metadata": {},
     "output_type": "execute_result"
    }
   ],
   "source": [
    "REF_LOT = \"dlpnoccsdt\" #\"mp2\"\n",
    "REF_BASIS = \"ccpvdz\" #\"6311++g2d2p\"\n",
    "\n",
    "# REF_LOT = \"mp2\"\n",
    "# REF_BASIS = \"6311++g2d2p\"\n",
    "\n",
    "\n",
    "q = (\n",
    "    pl.scan_csv(csv_path)\n",
    "    # .filter(pl.col(\"sepal_length\") > 5)\n",
    "    # .group_by(\"species\")\n",
    "    # .agg(pl.all().sum())\n",
    ")\n",
    "\n",
    "df = q.collect()\n",
    "\n",
    "REF_ENERGY = df.filter(\n",
    "    (pl.col(\"level_of_theory\") == REF_LOT) & (pl.col(\"basis\") == REF_BASIS ) #& pl.col(\"basis\").str.contains(\"\\+\\+\") \n",
    ")[\"energy\"][0]\n",
    "REF_ENERGY"
   ]
  },
  {
   "cell_type": "code",
   "execution_count": 53,
   "id": "aa04e6a9-9bf7-4b10-87a0-bb383412aa65",
   "metadata": {},
   "outputs": [
    {
     "data": {
      "text/html": [
       "<div><style>\n",
       ".dataframe > thead > tr,\n",
       ".dataframe > tbody > tr {\n",
       "  text-align: right;\n",
       "  white-space: pre-wrap;\n",
       "}\n",
       "</style>\n",
       "<small>shape: (12, 7)</small><table border=\"1\" class=\"dataframe\"><thead><tr><th>name</th><th>software</th><th>wall_time</th><th>basis</th><th>level_of_theory</th><th>energy</th><th>nbasis</th></tr><tr><td>str</td><td>str</td><td>f64</td><td>str</td><td>str</td><td>f64</td><td>i64</td></tr></thead><tbody><tr><td>&quot;/cluster/home/schmidtn/master/…</td><td>&quot;orca&quot;</td><td>1452.809</td><td>&quot;def2svp&quot;</td><td>&quot;mp2&quot;</td><td>-25382.874663</td><td>381</td></tr><tr><td>&quot;/cluster/home/schmidtn/master/…</td><td>&quot;gaussian&quot;</td><td>2396.9</td><td>&quot;def2svp&quot;</td><td>&quot;mp2&quot;</td><td>-25382.873759</td><td>381</td></tr><tr><td>&quot;/cluster/home/schmidtn/master/…</td><td>&quot;orca&quot;</td><td>6773.773</td><td>&quot;def2svpd&quot;</td><td>&quot;mp2&quot;</td><td>-25388.591679</td><td>576</td></tr><tr><td>&quot;/cluster/home/schmidtn/master/…</td><td>&quot;orca&quot;</td><td>1800.677</td><td>&quot;ccpvdz&quot;</td><td>&quot;mp2&quot;</td><td>-25403.943883</td><td>381</td></tr><tr><td>&quot;/cluster/home/schmidtn/master/…</td><td>&quot;gaussian&quot;</td><td>2630.6</td><td>&quot;ccpvdz&quot;</td><td>&quot;mp2&quot;</td><td>-25403.942634</td><td>381</td></tr><tr><td>&hellip;</td><td>&hellip;</td><td>&hellip;</td><td>&hellip;</td><td>&hellip;</td><td>&hellip;</td><td>&hellip;</td></tr><tr><td>&quot;/cluster/home/schmidtn/master/…</td><td>&quot;orca&quot;</td><td>3504.78</td><td>&quot;631+gdp&quot;</td><td>&quot;mp2&quot;</td><td>-25403.788787</td><td>457</td></tr><tr><td>&quot;/cluster/home/schmidtn/master/…</td><td>&quot;gaussian&quot;</td><td>3371.0</td><td>&quot;631+gdp&quot;</td><td>&quot;mp2&quot;</td><td>-25404.72798</td><td>476</td></tr><tr><td>&quot;/cluster/home/schmidtn/master/…</td><td>&quot;gaussian&quot;</td><td>14496.9</td><td>&quot;6311++g2d2p&quot;</td><td>&quot;mp2&quot;</td><td>-25420.402056</td><td>743</td></tr><tr><td>&quot;/cluster/home/schmidtn/master/…</td><td>&quot;orca&quot;</td><td>409.887</td><td>&quot;sto3g&quot;</td><td>&quot;mp2&quot;</td><td>-25027.014774</td><td>118</td></tr><tr><td>&quot;/cluster/home/schmidtn/master/…</td><td>&quot;gaussian&quot;</td><td>19.5</td><td>&quot;sto3g&quot;</td><td>&quot;mp2&quot;</td><td>-25027.014006</td><td>118</td></tr></tbody></table></div>"
      ],
      "text/plain": [
       "shape: (12, 7)\n",
       "┌──────────────────┬──────────┬───────────┬─────────────┬─────────────────┬───────────────┬────────┐\n",
       "│ name             ┆ software ┆ wall_time ┆ basis       ┆ level_of_theory ┆ energy        ┆ nbasis │\n",
       "│ ---              ┆ ---      ┆ ---       ┆ ---         ┆ ---             ┆ ---           ┆ ---    │\n",
       "│ str              ┆ str      ┆ f64       ┆ str         ┆ str             ┆ f64           ┆ i64    │\n",
       "╞══════════════════╪══════════╪═══════════╪═════════════╪═════════════════╪═══════════════╪════════╡\n",
       "│ /cluster/home/sc ┆ orca     ┆ 1452.809  ┆ def2svp     ┆ mp2             ┆ -25382.874663 ┆ 381    │\n",
       "│ hmidtn/master/…  ┆          ┆           ┆             ┆                 ┆               ┆        │\n",
       "│ /cluster/home/sc ┆ gaussian ┆ 2396.9    ┆ def2svp     ┆ mp2             ┆ -25382.873759 ┆ 381    │\n",
       "│ hmidtn/master/…  ┆          ┆           ┆             ┆                 ┆               ┆        │\n",
       "│ /cluster/home/sc ┆ orca     ┆ 6773.773  ┆ def2svpd    ┆ mp2             ┆ -25388.591679 ┆ 576    │\n",
       "│ hmidtn/master/…  ┆          ┆           ┆             ┆                 ┆               ┆        │\n",
       "│ /cluster/home/sc ┆ orca     ┆ 1800.677  ┆ ccpvdz      ┆ mp2             ┆ -25403.943883 ┆ 381    │\n",
       "│ hmidtn/master/…  ┆          ┆           ┆             ┆                 ┆               ┆        │\n",
       "│ /cluster/home/sc ┆ gaussian ┆ 2630.6    ┆ ccpvdz      ┆ mp2             ┆ -25403.942634 ┆ 381    │\n",
       "│ hmidtn/master/…  ┆          ┆           ┆             ┆                 ┆               ┆        │\n",
       "│ …                ┆ …        ┆ …         ┆ …           ┆ …               ┆ …             ┆ …      │\n",
       "│ /cluster/home/sc ┆ orca     ┆ 3504.78   ┆ 631+gdp     ┆ mp2             ┆ -25403.788787 ┆ 457    │\n",
       "│ hmidtn/master/…  ┆          ┆           ┆             ┆                 ┆               ┆        │\n",
       "│ /cluster/home/sc ┆ gaussian ┆ 3371.0    ┆ 631+gdp     ┆ mp2             ┆ -25404.72798  ┆ 476    │\n",
       "│ hmidtn/master/…  ┆          ┆           ┆             ┆                 ┆               ┆        │\n",
       "│ /cluster/home/sc ┆ gaussian ┆ 14496.9   ┆ 6311++g2d2p ┆ mp2             ┆ -25420.402056 ┆ 743    │\n",
       "│ hmidtn/master/…  ┆          ┆           ┆             ┆                 ┆               ┆        │\n",
       "│ /cluster/home/sc ┆ orca     ┆ 409.887   ┆ sto3g       ┆ mp2             ┆ -25027.014774 ┆ 118    │\n",
       "│ hmidtn/master/…  ┆          ┆           ┆             ┆                 ┆               ┆        │\n",
       "│ /cluster/home/sc ┆ gaussian ┆ 19.5      ┆ sto3g       ┆ mp2             ┆ -25027.014006 ┆ 118    │\n",
       "│ hmidtn/master/…  ┆          ┆           ┆             ┆                 ┆               ┆        │\n",
       "└──────────────────┴──────────┴───────────┴─────────────┴─────────────────┴───────────────┴────────┘"
      ]
     },
     "execution_count": 53,
     "metadata": {},
     "output_type": "execute_result"
    }
   ],
   "source": [
    "df.filter(\n",
    "    (pl.col(\"level_of_theory\") == \"mp2\") & (pl.col(\"nbasis\") > 0) #& pl.col(\"basis\").str.contains(\"\\+\\+\") \n",
    ")"
   ]
  },
  {
   "cell_type": "code",
   "execution_count": 54,
   "id": "db089fc3-6949-4966-8dae-496e0b914284",
   "metadata": {},
   "outputs": [
    {
     "data": {
      "text/html": [
       "<div><style>\n",
       ".dataframe > thead > tr,\n",
       ".dataframe > tbody > tr {\n",
       "  text-align: right;\n",
       "  white-space: pre-wrap;\n",
       "}\n",
       "</style>\n",
       "<small>shape: (148, 13)</small><table border=\"1\" class=\"dataframe\"><thead><tr><th>name</th><th>software</th><th>wall_time</th><th>basis</th><th>level_of_theory</th><th>energy</th><th>nbasis</th><th>unsigned_error</th><th>signed_error</th><th>relative_wall_time</th><th>theory_type</th><th>unsigned_error_kcalmol</th><th>signed_error_kcalmol</th></tr><tr><td>str</td><td>str</td><td>f64</td><td>str</td><td>str</td><td>f64</td><td>i64</td><td>f64</td><td>f64</td><td>f64</td><td>list[str]</td><td>f64</td><td>f64</td></tr></thead><tbody><tr><td>&quot;/cluster/home/schmidtn/master/…</td><td>&quot;gaussian&quot;</td><td>4392.6</td><td>&quot;631+gd&quot;</td><td>&quot;b2plyp&quot;</td><td>-25425.492624</td><td>407</td><td>15.211943</td><td>-15.211943</td><td>0.303003</td><td>[&quot;DHDFT&quot;, &quot;DHDFT&quot;, … &quot;HDFT&quot;]</td><td>350.795753</td><td>-350.795753</td></tr><tr><td>&quot;/cluster/home/schmidtn/master/…</td><td>&quot;gaussian&quot;</td><td>5007.3</td><td>&quot;631+gdp&quot;</td><td>&quot;b2plyp&quot;</td><td>-25426.77686</td><td>476</td><td>16.49618</td><td>-16.49618</td><td>0.345405</td><td>[&quot;DHDFT&quot;, &quot;DHDFT&quot;, … &quot;HDFT&quot;]</td><td>380.410955</td><td>-380.410955</td></tr><tr><td>&quot;/cluster/home/schmidtn/master/…</td><td>&quot;gaussian&quot;</td><td>19182.6</td><td>&quot;6311++g2d2p&quot;</td><td>&quot;b2plyp&quot;</td><td>-25433.065681</td><td>743</td><td>22.785001</td><td>-22.785001</td><td>1.323221</td><td>[&quot;DHDFT&quot;, &quot;DHDFT&quot;, … &quot;HDFT&quot;]</td><td>525.434604</td><td>-525.434604</td></tr><tr><td>&quot;/cluster/home/schmidtn/master/…</td><td>&quot;gaussian&quot;</td><td>3668.2</td><td>&quot;ccpvdz&quot;</td><td>&quot;b2plyp&quot;</td><td>-25426.541292</td><td>381</td><td>16.260612</td><td>-16.260612</td><td>0.253033</td><td>[&quot;DHDFT&quot;, &quot;DHDFT&quot;, … &quot;HDFT&quot;]</td><td>374.978615</td><td>-374.978615</td></tr><tr><td>&quot;/cluster/home/schmidtn/master/…</td><td>&quot;gaussian&quot;</td><td>3120.1</td><td>&quot;def2svp&quot;</td><td>&quot;b2plyp&quot;</td><td>-25406.254485</td><td>381</td><td>4.026196</td><td>4.026196</td><td>0.215225</td><td>[&quot;DHDFT&quot;, &quot;DHDFT&quot;, … &quot;HDFT&quot;]</td><td>92.846278</td><td>92.846278</td></tr><tr><td>&hellip;</td><td>&hellip;</td><td>&hellip;</td><td>&hellip;</td><td>&hellip;</td><td>&hellip;</td><td>&hellip;</td><td>&hellip;</td><td>&hellip;</td><td>&hellip;</td><td>&hellip;</td><td>&hellip;</td><td>&hellip;</td></tr><tr><td>&quot;/cluster/home/schmidtn/master/…</td><td>&quot;orca&quot;</td><td>4636.984</td><td>&quot;ccpvtzf12&quot;</td><td>&quot;wb97xv&quot;</td><td>-25481.633995</td><td>1421</td><td>71.353314</td><td>-71.353314</td><td>0.31986</td><td>[&quot;DHDFT&quot;, &quot;DHDFT&quot;, … &quot;HDFT&quot;]</td><td>1645.446534</td><td>-1645.446534</td></tr><tr><td>&quot;/cluster/home/schmidtn/master/…</td><td>&quot;orca&quot;</td><td>668.147</td><td>&quot;def2svp&quot;</td><td>&quot;wb97xv&quot;</td><td>-25451.98964</td><td>381</td><td>41.70896</td><td>-41.70896</td><td>0.046089</td><td>[&quot;DHDFT&quot;, &quot;DHDFT&quot;, … &quot;HDFT&quot;]</td><td>961.831467</td><td>-961.831467</td></tr><tr><td>&quot;/cluster/home/schmidtn/master/…</td><td>&quot;orca&quot;</td><td>1378.334</td><td>&quot;def2svpd&quot;</td><td>&quot;wb97xv&quot;</td><td>-25454.015023</td><td>576</td><td>43.734342</td><td>-43.734342</td><td>0.095078</td><td>[&quot;DHDFT&quot;, &quot;DHDFT&quot;, … &quot;HDFT&quot;]</td><td>1008.537899</td><td>-1008.537899</td></tr><tr><td>&quot;/cluster/home/schmidtn/master/…</td><td>&quot;orca&quot;</td><td>1843.665</td><td>&quot;def2tzvpp&quot;</td><td>&quot;wb97xv&quot;</td><td>-25480.572925</td><td>911</td><td>70.292245</td><td>-70.292245</td><td>0.127176</td><td>[&quot;DHDFT&quot;, &quot;DHDFT&quot;, … &quot;HDFT&quot;]</td><td>1620.977691</td><td>-1620.977691</td></tr><tr><td>&quot;/cluster/home/schmidtn/master/…</td><td>&quot;orca&quot;</td><td>396.071</td><td>&quot;sto3g&quot;</td><td>&quot;wb97xv&quot;</td><td>-25144.916656</td><td>118</td><td>265.364025</td><td>265.364025</td><td>0.027321</td><td>[&quot;DHDFT&quot;, &quot;DHDFT&quot;, … &quot;HDFT&quot;]</td><td>6119.439834</td><td>6119.439834</td></tr></tbody></table></div>"
      ],
      "text/plain": [
       "shape: (148, 13)\n",
       "┌───────────┬──────────┬───────────┬───────────┬───┬───────────┬───────────┬───────────┬───────────┐\n",
       "│ name      ┆ software ┆ wall_time ┆ basis     ┆ … ┆ relative_ ┆ theory_ty ┆ unsigned_ ┆ signed_er │\n",
       "│ ---       ┆ ---      ┆ ---       ┆ ---       ┆   ┆ wall_time ┆ pe        ┆ error_kca ┆ ror_kcalm │\n",
       "│ str       ┆ str      ┆ f64       ┆ str       ┆   ┆ ---       ┆ ---       ┆ lmol      ┆ ol        │\n",
       "│           ┆          ┆           ┆           ┆   ┆ f64       ┆ list[str] ┆ ---       ┆ ---       │\n",
       "│           ┆          ┆           ┆           ┆   ┆           ┆           ┆ f64       ┆ f64       │\n",
       "╞═══════════╪══════════╪═══════════╪═══════════╪═══╪═══════════╪═══════════╪═══════════╪═══════════╡\n",
       "│ /cluster/ ┆ gaussian ┆ 4392.6    ┆ 631+gd    ┆ … ┆ 0.303003  ┆ [\"DHDFT\", ┆ 350.79575 ┆ -350.7957 │\n",
       "│ home/schm ┆          ┆           ┆           ┆   ┆           ┆ \"DHDFT\",  ┆ 3         ┆ 53        │\n",
       "│ idtn/mast ┆          ┆           ┆           ┆   ┆           ┆ … \"HDFT\"] ┆           ┆           │\n",
       "│ er/…      ┆          ┆           ┆           ┆   ┆           ┆           ┆           ┆           │\n",
       "│ /cluster/ ┆ gaussian ┆ 5007.3    ┆ 631+gdp   ┆ … ┆ 0.345405  ┆ [\"DHDFT\", ┆ 380.41095 ┆ -380.4109 │\n",
       "│ home/schm ┆          ┆           ┆           ┆   ┆           ┆ \"DHDFT\",  ┆ 5         ┆ 55        │\n",
       "│ idtn/mast ┆          ┆           ┆           ┆   ┆           ┆ … \"HDFT\"] ┆           ┆           │\n",
       "│ er/…      ┆          ┆           ┆           ┆   ┆           ┆           ┆           ┆           │\n",
       "│ /cluster/ ┆ gaussian ┆ 19182.6   ┆ 6311++g2d ┆ … ┆ 1.323221  ┆ [\"DHDFT\", ┆ 525.43460 ┆ -525.4346 │\n",
       "│ home/schm ┆          ┆           ┆ 2p        ┆   ┆           ┆ \"DHDFT\",  ┆ 4         ┆ 04        │\n",
       "│ idtn/mast ┆          ┆           ┆           ┆   ┆           ┆ … \"HDFT\"] ┆           ┆           │\n",
       "│ er/…      ┆          ┆           ┆           ┆   ┆           ┆           ┆           ┆           │\n",
       "│ /cluster/ ┆ gaussian ┆ 3668.2    ┆ ccpvdz    ┆ … ┆ 0.253033  ┆ [\"DHDFT\", ┆ 374.97861 ┆ -374.9786 │\n",
       "│ home/schm ┆          ┆           ┆           ┆   ┆           ┆ \"DHDFT\",  ┆ 5         ┆ 15        │\n",
       "│ idtn/mast ┆          ┆           ┆           ┆   ┆           ┆ … \"HDFT\"] ┆           ┆           │\n",
       "│ er/…      ┆          ┆           ┆           ┆   ┆           ┆           ┆           ┆           │\n",
       "│ /cluster/ ┆ gaussian ┆ 3120.1    ┆ def2svp   ┆ … ┆ 0.215225  ┆ [\"DHDFT\", ┆ 92.846278 ┆ 92.846278 │\n",
       "│ home/schm ┆          ┆           ┆           ┆   ┆           ┆ \"DHDFT\",  ┆           ┆           │\n",
       "│ idtn/mast ┆          ┆           ┆           ┆   ┆           ┆ … \"HDFT\"] ┆           ┆           │\n",
       "│ er/…      ┆          ┆           ┆           ┆   ┆           ┆           ┆           ┆           │\n",
       "│ …         ┆ …        ┆ …         ┆ …         ┆ … ┆ …         ┆ …         ┆ …         ┆ …         │\n",
       "│ /cluster/ ┆ orca     ┆ 4636.984  ┆ ccpvtzf12 ┆ … ┆ 0.31986   ┆ [\"DHDFT\", ┆ 1645.4465 ┆ -1645.446 │\n",
       "│ home/schm ┆          ┆           ┆           ┆   ┆           ┆ \"DHDFT\",  ┆ 34        ┆ 534       │\n",
       "│ idtn/mast ┆          ┆           ┆           ┆   ┆           ┆ … \"HDFT\"] ┆           ┆           │\n",
       "│ er/…      ┆          ┆           ┆           ┆   ┆           ┆           ┆           ┆           │\n",
       "│ /cluster/ ┆ orca     ┆ 668.147   ┆ def2svp   ┆ … ┆ 0.046089  ┆ [\"DHDFT\", ┆ 961.83146 ┆ -961.8314 │\n",
       "│ home/schm ┆          ┆           ┆           ┆   ┆           ┆ \"DHDFT\",  ┆ 7         ┆ 67        │\n",
       "│ idtn/mast ┆          ┆           ┆           ┆   ┆           ┆ … \"HDFT\"] ┆           ┆           │\n",
       "│ er/…      ┆          ┆           ┆           ┆   ┆           ┆           ┆           ┆           │\n",
       "│ /cluster/ ┆ orca     ┆ 1378.334  ┆ def2svpd  ┆ … ┆ 0.095078  ┆ [\"DHDFT\", ┆ 1008.5378 ┆ -1008.537 │\n",
       "│ home/schm ┆          ┆           ┆           ┆   ┆           ┆ \"DHDFT\",  ┆ 99        ┆ 899       │\n",
       "│ idtn/mast ┆          ┆           ┆           ┆   ┆           ┆ … \"HDFT\"] ┆           ┆           │\n",
       "│ er/…      ┆          ┆           ┆           ┆   ┆           ┆           ┆           ┆           │\n",
       "│ /cluster/ ┆ orca     ┆ 1843.665  ┆ def2tzvpp ┆ … ┆ 0.127176  ┆ [\"DHDFT\", ┆ 1620.9776 ┆ -1620.977 │\n",
       "│ home/schm ┆          ┆           ┆           ┆   ┆           ┆ \"DHDFT\",  ┆ 91        ┆ 691       │\n",
       "│ idtn/mast ┆          ┆           ┆           ┆   ┆           ┆ … \"HDFT\"] ┆           ┆           │\n",
       "│ er/…      ┆          ┆           ┆           ┆   ┆           ┆           ┆           ┆           │\n",
       "│ /cluster/ ┆ orca     ┆ 396.071   ┆ sto3g     ┆ … ┆ 0.027321  ┆ [\"DHDFT\", ┆ 6119.4398 ┆ 6119.4398 │\n",
       "│ home/schm ┆          ┆           ┆           ┆   ┆           ┆ \"DHDFT\",  ┆ 34        ┆ 34        │\n",
       "│ idtn/mast ┆          ┆           ┆           ┆   ┆           ┆ … \"HDFT\"] ┆           ┆           │\n",
       "│ er/…      ┆          ┆           ┆           ┆   ┆           ┆           ┆           ┆           │\n",
       "└───────────┴──────────┴───────────┴───────────┴───┴───────────┴───────────┴───────────┴───────────┘"
      ]
     },
     "execution_count": 54,
     "metadata": {},
     "output_type": "execute_result"
    }
   ],
   "source": [
    "df = df.sort([\"software\", \"level_of_theory\", \"basis\"])\n",
    "\n",
    "df = df.with_columns(\n",
    "    unsigned_error=abs(pl.col(\"energy\") - REF_ENERGY),\n",
    "    signed_error=pl.col(\"energy\") - REF_ENERGY,\n",
    "    relative_wall_time= pl.col(\"wall_time\") / 14496.9,\n",
    ")\n",
    "\n",
    "theory_type = [lot_type_dict[_] for _ in df[\"level_of_theory\"]]\n",
    "df = df.with_columns(theory_type = theory_type\n",
    ")\n",
    "\n",
    "df = df.with_columns(\n",
    "    unsigned_error_kcalmol = pl.col(\"unsigned_error\") / (kcal/mol),\n",
    "    signed_error_kcalmol = pl.col(\"signed_error\") / (kcal/mol)\n",
    ")\n",
    "\n",
    "df"
   ]
  },
  {
   "cell_type": "code",
   "execution_count": 55,
   "id": "b9fb0e50-f052-4e31-96b8-d712312c05af",
   "metadata": {},
   "outputs": [
    {
     "data": {
      "text/html": [
       "<div><style>\n",
       ".dataframe > thead > tr,\n",
       ".dataframe > tbody > tr {\n",
       "  text-align: right;\n",
       "  white-space: pre-wrap;\n",
       "}\n",
       "</style>\n",
       "<small>shape: (148, 13)</small><table border=\"1\" class=\"dataframe\"><thead><tr><th>name</th><th>software</th><th>wall_time</th><th>basis</th><th>level_of_theory</th><th>energy</th><th>nbasis</th><th>unsigned_error</th><th>signed_error</th><th>relative_wall_time</th><th>theory_type</th><th>unsigned_error_kcalmol</th><th>signed_error_kcalmol</th></tr><tr><td>str</td><td>str</td><td>f64</td><td>str</td><td>str</td><td>f64</td><td>i64</td><td>f64</td><td>f64</td><td>f64</td><td>str</td><td>f64</td><td>f64</td></tr></thead><tbody><tr><td>&quot;/cluster/home/schmidtn/master/…</td><td>&quot;gaussian&quot;</td><td>4392.6</td><td>&quot;631+gd&quot;</td><td>&quot;b2plyp&quot;</td><td>-25425.492624</td><td>407</td><td>15.211943</td><td>-15.211943</td><td>0.303003</td><td>&quot;DHDFT&quot;</td><td>350.795753</td><td>-350.795753</td></tr><tr><td>&quot;/cluster/home/schmidtn/master/…</td><td>&quot;gaussian&quot;</td><td>5007.3</td><td>&quot;631+gdp&quot;</td><td>&quot;b2plyp&quot;</td><td>-25426.77686</td><td>476</td><td>16.49618</td><td>-16.49618</td><td>0.345405</td><td>&quot;DHDFT&quot;</td><td>380.410955</td><td>-380.410955</td></tr><tr><td>&quot;/cluster/home/schmidtn/master/…</td><td>&quot;gaussian&quot;</td><td>19182.6</td><td>&quot;6311++g2d2p&quot;</td><td>&quot;b2plyp&quot;</td><td>-25433.065681</td><td>743</td><td>22.785001</td><td>-22.785001</td><td>1.323221</td><td>&quot;DHDFT&quot;</td><td>525.434604</td><td>-525.434604</td></tr><tr><td>&quot;/cluster/home/schmidtn/master/…</td><td>&quot;gaussian&quot;</td><td>3668.2</td><td>&quot;ccpvdz&quot;</td><td>&quot;b2plyp&quot;</td><td>-25426.541292</td><td>381</td><td>16.260612</td><td>-16.260612</td><td>0.253033</td><td>&quot;DHDFT&quot;</td><td>374.978615</td><td>-374.978615</td></tr><tr><td>&quot;/cluster/home/schmidtn/master/…</td><td>&quot;gaussian&quot;</td><td>3120.1</td><td>&quot;def2svp&quot;</td><td>&quot;b2plyp&quot;</td><td>-25406.254485</td><td>381</td><td>4.026196</td><td>4.026196</td><td>0.215225</td><td>&quot;DHDFT&quot;</td><td>92.846278</td><td>92.846278</td></tr><tr><td>&hellip;</td><td>&hellip;</td><td>&hellip;</td><td>&hellip;</td><td>&hellip;</td><td>&hellip;</td><td>&hellip;</td><td>&hellip;</td><td>&hellip;</td><td>&hellip;</td><td>&hellip;</td><td>&hellip;</td><td>&hellip;</td></tr><tr><td>&quot;/cluster/home/schmidtn/master/…</td><td>&quot;orca&quot;</td><td>4636.984</td><td>&quot;ccpvtzf12&quot;</td><td>&quot;wb97xv&quot;</td><td>-25481.633995</td><td>1421</td><td>71.353314</td><td>-71.353314</td><td>0.31986</td><td>&quot;HDFT&quot;</td><td>1645.446534</td><td>-1645.446534</td></tr><tr><td>&quot;/cluster/home/schmidtn/master/…</td><td>&quot;orca&quot;</td><td>668.147</td><td>&quot;def2svp&quot;</td><td>&quot;wb97xv&quot;</td><td>-25451.98964</td><td>381</td><td>41.70896</td><td>-41.70896</td><td>0.046089</td><td>&quot;HDFT&quot;</td><td>961.831467</td><td>-961.831467</td></tr><tr><td>&quot;/cluster/home/schmidtn/master/…</td><td>&quot;orca&quot;</td><td>1378.334</td><td>&quot;def2svpd&quot;</td><td>&quot;wb97xv&quot;</td><td>-25454.015023</td><td>576</td><td>43.734342</td><td>-43.734342</td><td>0.095078</td><td>&quot;HDFT&quot;</td><td>1008.537899</td><td>-1008.537899</td></tr><tr><td>&quot;/cluster/home/schmidtn/master/…</td><td>&quot;orca&quot;</td><td>1843.665</td><td>&quot;def2tzvpp&quot;</td><td>&quot;wb97xv&quot;</td><td>-25480.572925</td><td>911</td><td>70.292245</td><td>-70.292245</td><td>0.127176</td><td>&quot;HDFT&quot;</td><td>1620.977691</td><td>-1620.977691</td></tr><tr><td>&quot;/cluster/home/schmidtn/master/…</td><td>&quot;orca&quot;</td><td>396.071</td><td>&quot;sto3g&quot;</td><td>&quot;wb97xv&quot;</td><td>-25144.916656</td><td>118</td><td>265.364025</td><td>265.364025</td><td>0.027321</td><td>&quot;HDFT&quot;</td><td>6119.439834</td><td>6119.439834</td></tr></tbody></table></div>"
      ],
      "text/plain": [
       "shape: (148, 13)\n",
       "┌───────────┬──────────┬───────────┬───────────┬───┬───────────┬───────────┬───────────┬───────────┐\n",
       "│ name      ┆ software ┆ wall_time ┆ basis     ┆ … ┆ relative_ ┆ theory_ty ┆ unsigned_ ┆ signed_er │\n",
       "│ ---       ┆ ---      ┆ ---       ┆ ---       ┆   ┆ wall_time ┆ pe        ┆ error_kca ┆ ror_kcalm │\n",
       "│ str       ┆ str      ┆ f64       ┆ str       ┆   ┆ ---       ┆ ---       ┆ lmol      ┆ ol        │\n",
       "│           ┆          ┆           ┆           ┆   ┆ f64       ┆ str       ┆ ---       ┆ ---       │\n",
       "│           ┆          ┆           ┆           ┆   ┆           ┆           ┆ f64       ┆ f64       │\n",
       "╞═══════════╪══════════╪═══════════╪═══════════╪═══╪═══════════╪═══════════╪═══════════╪═══════════╡\n",
       "│ /cluster/ ┆ gaussian ┆ 4392.6    ┆ 631+gd    ┆ … ┆ 0.303003  ┆ DHDFT     ┆ 350.79575 ┆ -350.7957 │\n",
       "│ home/schm ┆          ┆           ┆           ┆   ┆           ┆           ┆ 3         ┆ 53        │\n",
       "│ idtn/mast ┆          ┆           ┆           ┆   ┆           ┆           ┆           ┆           │\n",
       "│ er/…      ┆          ┆           ┆           ┆   ┆           ┆           ┆           ┆           │\n",
       "│ /cluster/ ┆ gaussian ┆ 5007.3    ┆ 631+gdp   ┆ … ┆ 0.345405  ┆ DHDFT     ┆ 380.41095 ┆ -380.4109 │\n",
       "│ home/schm ┆          ┆           ┆           ┆   ┆           ┆           ┆ 5         ┆ 55        │\n",
       "│ idtn/mast ┆          ┆           ┆           ┆   ┆           ┆           ┆           ┆           │\n",
       "│ er/…      ┆          ┆           ┆           ┆   ┆           ┆           ┆           ┆           │\n",
       "│ /cluster/ ┆ gaussian ┆ 19182.6   ┆ 6311++g2d ┆ … ┆ 1.323221  ┆ DHDFT     ┆ 525.43460 ┆ -525.4346 │\n",
       "│ home/schm ┆          ┆           ┆ 2p        ┆   ┆           ┆           ┆ 4         ┆ 04        │\n",
       "│ idtn/mast ┆          ┆           ┆           ┆   ┆           ┆           ┆           ┆           │\n",
       "│ er/…      ┆          ┆           ┆           ┆   ┆           ┆           ┆           ┆           │\n",
       "│ /cluster/ ┆ gaussian ┆ 3668.2    ┆ ccpvdz    ┆ … ┆ 0.253033  ┆ DHDFT     ┆ 374.97861 ┆ -374.9786 │\n",
       "│ home/schm ┆          ┆           ┆           ┆   ┆           ┆           ┆ 5         ┆ 15        │\n",
       "│ idtn/mast ┆          ┆           ┆           ┆   ┆           ┆           ┆           ┆           │\n",
       "│ er/…      ┆          ┆           ┆           ┆   ┆           ┆           ┆           ┆           │\n",
       "│ /cluster/ ┆ gaussian ┆ 3120.1    ┆ def2svp   ┆ … ┆ 0.215225  ┆ DHDFT     ┆ 92.846278 ┆ 92.846278 │\n",
       "│ home/schm ┆          ┆           ┆           ┆   ┆           ┆           ┆           ┆           │\n",
       "│ idtn/mast ┆          ┆           ┆           ┆   ┆           ┆           ┆           ┆           │\n",
       "│ er/…      ┆          ┆           ┆           ┆   ┆           ┆           ┆           ┆           │\n",
       "│ …         ┆ …        ┆ …         ┆ …         ┆ … ┆ …         ┆ …         ┆ …         ┆ …         │\n",
       "│ /cluster/ ┆ orca     ┆ 4636.984  ┆ ccpvtzf12 ┆ … ┆ 0.31986   ┆ HDFT      ┆ 1645.4465 ┆ -1645.446 │\n",
       "│ home/schm ┆          ┆           ┆           ┆   ┆           ┆           ┆ 34        ┆ 534       │\n",
       "│ idtn/mast ┆          ┆           ┆           ┆   ┆           ┆           ┆           ┆           │\n",
       "│ er/…      ┆          ┆           ┆           ┆   ┆           ┆           ┆           ┆           │\n",
       "│ /cluster/ ┆ orca     ┆ 668.147   ┆ def2svp   ┆ … ┆ 0.046089  ┆ HDFT      ┆ 961.83146 ┆ -961.8314 │\n",
       "│ home/schm ┆          ┆           ┆           ┆   ┆           ┆           ┆ 7         ┆ 67        │\n",
       "│ idtn/mast ┆          ┆           ┆           ┆   ┆           ┆           ┆           ┆           │\n",
       "│ er/…      ┆          ┆           ┆           ┆   ┆           ┆           ┆           ┆           │\n",
       "│ /cluster/ ┆ orca     ┆ 1378.334  ┆ def2svpd  ┆ … ┆ 0.095078  ┆ HDFT      ┆ 1008.5378 ┆ -1008.537 │\n",
       "│ home/schm ┆          ┆           ┆           ┆   ┆           ┆           ┆ 99        ┆ 899       │\n",
       "│ idtn/mast ┆          ┆           ┆           ┆   ┆           ┆           ┆           ┆           │\n",
       "│ er/…      ┆          ┆           ┆           ┆   ┆           ┆           ┆           ┆           │\n",
       "│ /cluster/ ┆ orca     ┆ 1843.665  ┆ def2tzvpp ┆ … ┆ 0.127176  ┆ HDFT      ┆ 1620.9776 ┆ -1620.977 │\n",
       "│ home/schm ┆          ┆           ┆           ┆   ┆           ┆           ┆ 91        ┆ 691       │\n",
       "│ idtn/mast ┆          ┆           ┆           ┆   ┆           ┆           ┆           ┆           │\n",
       "│ er/…      ┆          ┆           ┆           ┆   ┆           ┆           ┆           ┆           │\n",
       "│ /cluster/ ┆ orca     ┆ 396.071   ┆ sto3g     ┆ … ┆ 0.027321  ┆ HDFT      ┆ 6119.4398 ┆ 6119.4398 │\n",
       "│ home/schm ┆          ┆           ┆           ┆   ┆           ┆           ┆ 34        ┆ 34        │\n",
       "│ idtn/mast ┆          ┆           ┆           ┆   ┆           ┆           ┆           ┆           │\n",
       "│ er/…      ┆          ┆           ┆           ┆   ┆           ┆           ┆           ┆           │\n",
       "└───────────┴──────────┴───────────┴───────────┴───┴───────────┴───────────┴───────────┴───────────┘"
      ]
     },
     "execution_count": 55,
     "metadata": {},
     "output_type": "execute_result"
    }
   ],
   "source": [
    "def func2(x):\n",
    "    return lot_type_dict[x]\n",
    "\n",
    "\n",
    "df = df.with_columns(theory_type = pl.col(\"level_of_theory\").replace_strict(lot_type_dict)\n",
    ")\n",
    "# df[[\"level_of_theory\", \"theory_type\"]].unique()\n",
    "df"
   ]
  },
  {
   "cell_type": "code",
   "execution_count": 56,
   "id": "8401984c-0b15-4657-8df2-ec02f912676f",
   "metadata": {},
   "outputs": [
    {
     "data": {
      "text/html": [
       "<div><style>\n",
       ".dataframe > thead > tr,\n",
       ".dataframe > tbody > tr {\n",
       "  text-align: right;\n",
       "  white-space: pre-wrap;\n",
       "}\n",
       "</style>\n",
       "<small>shape: (148, 6)</small><table border=\"1\" class=\"dataframe\"><thead><tr><th>software</th><th>level_of_theory</th><th>basis</th><th>wall_time</th><th>energy</th><th>unsigned_error</th></tr><tr><td>str</td><td>str</td><td>str</td><td>f64</td><td>f64</td><td>f64</td></tr></thead><tbody><tr><td>&quot;gaussian&quot;</td><td>&quot;b2plyp&quot;</td><td>&quot;631+gd&quot;</td><td>4392.6</td><td>-25425.492624</td><td>15.211943</td></tr><tr><td>&quot;gaussian&quot;</td><td>&quot;b2plyp&quot;</td><td>&quot;631+gdp&quot;</td><td>5007.3</td><td>-25426.77686</td><td>16.49618</td></tr><tr><td>&quot;gaussian&quot;</td><td>&quot;b2plyp&quot;</td><td>&quot;6311++g2d2p&quot;</td><td>19182.6</td><td>-25433.065681</td><td>22.785001</td></tr><tr><td>&quot;gaussian&quot;</td><td>&quot;b2plyp&quot;</td><td>&quot;ccpvdz&quot;</td><td>3668.2</td><td>-25426.541292</td><td>16.260612</td></tr><tr><td>&quot;gaussian&quot;</td><td>&quot;b2plyp&quot;</td><td>&quot;def2svp&quot;</td><td>3120.1</td><td>-25406.254485</td><td>4.026196</td></tr><tr><td>&hellip;</td><td>&hellip;</td><td>&hellip;</td><td>&hellip;</td><td>&hellip;</td><td>&hellip;</td></tr><tr><td>&quot;orca&quot;</td><td>&quot;wb97xv&quot;</td><td>&quot;ccpvtzf12&quot;</td><td>4636.984</td><td>-25481.633995</td><td>71.353314</td></tr><tr><td>&quot;orca&quot;</td><td>&quot;wb97xv&quot;</td><td>&quot;def2svp&quot;</td><td>668.147</td><td>-25451.98964</td><td>41.70896</td></tr><tr><td>&quot;orca&quot;</td><td>&quot;wb97xv&quot;</td><td>&quot;def2svpd&quot;</td><td>1378.334</td><td>-25454.015023</td><td>43.734342</td></tr><tr><td>&quot;orca&quot;</td><td>&quot;wb97xv&quot;</td><td>&quot;def2tzvpp&quot;</td><td>1843.665</td><td>-25480.572925</td><td>70.292245</td></tr><tr><td>&quot;orca&quot;</td><td>&quot;wb97xv&quot;</td><td>&quot;sto3g&quot;</td><td>396.071</td><td>-25144.916656</td><td>265.364025</td></tr></tbody></table></div>"
      ],
      "text/plain": [
       "shape: (148, 6)\n",
       "┌──────────┬─────────────────┬─────────────┬───────────┬───────────────┬────────────────┐\n",
       "│ software ┆ level_of_theory ┆ basis       ┆ wall_time ┆ energy        ┆ unsigned_error │\n",
       "│ ---      ┆ ---             ┆ ---         ┆ ---       ┆ ---           ┆ ---            │\n",
       "│ str      ┆ str             ┆ str         ┆ f64       ┆ f64           ┆ f64            │\n",
       "╞══════════╪═════════════════╪═════════════╪═══════════╪═══════════════╪════════════════╡\n",
       "│ gaussian ┆ b2plyp          ┆ 631+gd      ┆ 4392.6    ┆ -25425.492624 ┆ 15.211943      │\n",
       "│ gaussian ┆ b2plyp          ┆ 631+gdp     ┆ 5007.3    ┆ -25426.77686  ┆ 16.49618       │\n",
       "│ gaussian ┆ b2plyp          ┆ 6311++g2d2p ┆ 19182.6   ┆ -25433.065681 ┆ 22.785001      │\n",
       "│ gaussian ┆ b2plyp          ┆ ccpvdz      ┆ 3668.2    ┆ -25426.541292 ┆ 16.260612      │\n",
       "│ gaussian ┆ b2plyp          ┆ def2svp     ┆ 3120.1    ┆ -25406.254485 ┆ 4.026196       │\n",
       "│ …        ┆ …               ┆ …           ┆ …         ┆ …             ┆ …              │\n",
       "│ orca     ┆ wb97xv          ┆ ccpvtzf12   ┆ 4636.984  ┆ -25481.633995 ┆ 71.353314      │\n",
       "│ orca     ┆ wb97xv          ┆ def2svp     ┆ 668.147   ┆ -25451.98964  ┆ 41.70896       │\n",
       "│ orca     ┆ wb97xv          ┆ def2svpd    ┆ 1378.334  ┆ -25454.015023 ┆ 43.734342      │\n",
       "│ orca     ┆ wb97xv          ┆ def2tzvpp   ┆ 1843.665  ┆ -25480.572925 ┆ 70.292245      │\n",
       "│ orca     ┆ wb97xv          ┆ sto3g       ┆ 396.071   ┆ -25144.916656 ┆ 265.364025     │\n",
       "└──────────┴─────────────────┴─────────────┴───────────┴───────────────┴────────────────┘"
      ]
     },
     "execution_count": 56,
     "metadata": {},
     "output_type": "execute_result"
    }
   ],
   "source": [
    "df[[\"software\", \"level_of_theory\", \"basis\", \"wall_time\", \"energy\", \"unsigned_error\"]]"
   ]
  },
  {
   "cell_type": "code",
   "execution_count": 57,
   "id": "6113a37f-705c-40d4-8fbd-db6d92878044",
   "metadata": {},
   "outputs": [
    {
     "data": {
      "text/plain": [
       "array(['rimp2', 'b2plyp', 'pbe0', 'b973c', 'r2scan-3c', 'mp2', 'wb97xv',\n",
       "       'wb97xd3bj', 'm062x', 'camb3lyp', 'PBEh-3c', 'wb97xd3',\n",
       "       'dlpnoccsdt', 'ccsd', 'hf'], dtype=object)"
      ]
     },
     "execution_count": 57,
     "metadata": {},
     "output_type": "execute_result"
    }
   ],
   "source": [
    "df[\"level_of_theory\"].unique().to_numpy()"
   ]
  },
  {
   "cell_type": "code",
   "execution_count": 58,
   "id": "dac568f1-389a-4b18-8b69-8cb1d1195c36",
   "metadata": {},
   "outputs": [
    {
     "data": {
      "text/html": [
       "<div><style>\n",
       ".dataframe > thead > tr,\n",
       ".dataframe > tbody > tr {\n",
       "  text-align: right;\n",
       "  white-space: pre-wrap;\n",
       "}\n",
       "</style>\n",
       "<small>shape: (10,)</small><table border=\"1\" class=\"dataframe\"><thead><tr><th>basis</th></tr><tr><td>str</td></tr></thead><tbody><tr><td>&quot;ccpvtzf12&quot;</td></tr><tr><td>&quot;631+gd&quot;</td></tr><tr><td>&quot;ccpvdz&quot;</td></tr><tr><td>&quot;def2svp&quot;</td></tr><tr><td>&quot;def2tzvpp&quot;</td></tr><tr><td>&quot;sto3g&quot;</td></tr><tr><td>&quot;6311++g2d2p&quot;</td></tr><tr><td>&quot;ccpvdzpp&quot;</td></tr><tr><td>&quot;def2svpd&quot;</td></tr><tr><td>&quot;631+gdp&quot;</td></tr></tbody></table></div>"
      ],
      "text/plain": [
       "shape: (10,)\n",
       "Series: 'basis' [str]\n",
       "[\n",
       "\t\"ccpvtzf12\"\n",
       "\t\"631+gd\"\n",
       "\t\"ccpvdz\"\n",
       "\t\"def2svp\"\n",
       "\t\"def2tzvpp\"\n",
       "\t\"sto3g\"\n",
       "\t\"6311++g2d2p\"\n",
       "\t\"ccpvdzpp\"\n",
       "\t\"def2svpd\"\n",
       "\t\"631+gdp\"\n",
       "]"
      ]
     },
     "execution_count": 58,
     "metadata": {},
     "output_type": "execute_result"
    }
   ],
   "source": [
    "df[\"basis\"].unique()"
   ]
  },
  {
   "cell_type": "code",
   "execution_count": 59,
   "id": "8f0831d0-e017-4dca-a175-a53c31d6f349",
   "metadata": {},
   "outputs": [
    {
     "data": {
      "text/html": [
       "<div><style>\n",
       ".dataframe > thead > tr,\n",
       ".dataframe > tbody > tr {\n",
       "  text-align: right;\n",
       "  white-space: pre-wrap;\n",
       "}\n",
       "</style>\n",
       "<small>shape: (9, 2)</small><table border=\"1\" class=\"dataframe\"><thead><tr><th>statistic</th><th>value</th></tr><tr><td>str</td><td>f64</td></tr></thead><tbody><tr><td>&quot;count&quot;</td><td>148.0</td></tr><tr><td>&quot;null_count&quot;</td><td>0.0</td></tr><tr><td>&quot;mean&quot;</td><td>514.52027</td></tr><tr><td>&quot;std&quot;</td><td>286.33479</td></tr><tr><td>&quot;min&quot;</td><td>118.0</td></tr><tr><td>&quot;25%&quot;</td><td>381.0</td></tr><tr><td>&quot;50%&quot;</td><td>450.0</td></tr><tr><td>&quot;75%&quot;</td><td>576.0</td></tr><tr><td>&quot;max&quot;</td><td>1421.0</td></tr></tbody></table></div>"
      ],
      "text/plain": [
       "shape: (9, 2)\n",
       "┌────────────┬───────────┐\n",
       "│ statistic  ┆ value     │\n",
       "│ ---        ┆ ---       │\n",
       "│ str        ┆ f64       │\n",
       "╞════════════╪═══════════╡\n",
       "│ count      ┆ 148.0     │\n",
       "│ null_count ┆ 0.0       │\n",
       "│ mean       ┆ 514.52027 │\n",
       "│ std        ┆ 286.33479 │\n",
       "│ min        ┆ 118.0     │\n",
       "│ 25%        ┆ 381.0     │\n",
       "│ 50%        ┆ 450.0     │\n",
       "│ 75%        ┆ 576.0     │\n",
       "│ max        ┆ 1421.0    │\n",
       "└────────────┴───────────┘"
      ]
     },
     "execution_count": 59,
     "metadata": {},
     "output_type": "execute_result"
    }
   ],
   "source": [
    "df[\"nbasis\"].describe()"
   ]
  },
  {
   "cell_type": "code",
   "execution_count": 60,
   "id": "9a5d4ed6-464d-4661-92c6-dc2315039fb4",
   "metadata": {},
   "outputs": [],
   "source": [
    "_df = df"
   ]
  },
  {
   "cell_type": "code",
   "execution_count": 61,
   "id": "0651d897-e8be-417a-b49a-735f2c58320d",
   "metadata": {},
   "outputs": [
    {
     "data": {
      "text/plain": [
       "\u001b[0;31mSignature:\u001b[0m \u001b[0mis_pareto_efficient\u001b[0m\u001b[0;34m(\u001b[0m\u001b[0mcosts\u001b[0m\u001b[0;34m,\u001b[0m \u001b[0mreturn_mask\u001b[0m\u001b[0;34m=\u001b[0m\u001b[0;32mTrue\u001b[0m\u001b[0;34m)\u001b[0m\u001b[0;34m\u001b[0m\u001b[0;34m\u001b[0m\u001b[0m\n",
       "\u001b[0;31mDocstring:\u001b[0m\n",
       "Find the pareto-efficient points\n",
       ":param costs: An (n_points, n_costs) array\n",
       ":param return_mask: True to return a mask\n",
       ":return: An array of indices of pareto-efficient points.\n",
       "    If return_mask is True, this will be an (n_points, ) boolean array\n",
       "    Otherwise it will be a (n_efficient_points, ) integer array of indices.\n",
       "\u001b[0;31mFile:\u001b[0m      ~/master/wahlprak/dftmp2bench/dftmp2bench/pareto.py\n",
       "\u001b[0;31mType:\u001b[0m      function"
      ]
     },
     "metadata": {},
     "output_type": "display_data"
    }
   ],
   "source": [
    "is_pareto_efficient?"
   ]
  },
  {
   "cell_type": "code",
   "execution_count": 62,
   "id": "f2d92797-39a3-41a4-93da-40798b4ea9a9",
   "metadata": {
    "scrolled": true
   },
   "outputs": [],
   "source": [
    "# pareto_front.sort([\"relative_wall_time\", \"unsigned_error_kcalmol\"])"
   ]
  },
  {
   "cell_type": "code",
   "execution_count": 63,
   "id": "3e0e2712-857a-4f92-9d69-06c7d440e4d5",
   "metadata": {},
   "outputs": [
    {
     "name": "stdout",
     "output_type": "stream",
     "text": [
      "HDFT\n",
      "DHDFT\n",
      "HF\n",
      "mGGA\n",
      "MP\n",
      "CC\n"
     ]
    },
    {
     "data": {
      "image/png": "[encoded data removed]",
      "text/plain": [
       "<Figure size 640x480 with 1 Axes>"
      ]
     },
     "metadata": {},
     "output_type": "display_data"
    }
   ],
   "source": [
    "\n",
    "for v in df[\"theory_type\"].unique():\n",
    "    print(v)\n",
    "\n",
    "    _df = _df.filter(\n",
    "                 ~(pl.col(\"basis\") == REF_BASIS) & (pl.col(\"level_of_theory\") == REF_LOT)\n",
    "            )\n",
    "\n",
    "    _df = df.filter((pl.col(\"theory_type\") == v))\n",
    "    # print(_df)\n",
    "    plt.scatter(_df[\"relative_wall_time\"], _df[\"unsigned_error_kcalmol\"],\n",
    "                s=(_df[\"nbasis\"])/10,\n",
    "                c=theory_type_style_dict[v][1],\n",
    "                marker=theory_type_style_dict[v][0],\n",
    "               )\n",
    "\n",
    "    _pf = _df.filter(\n",
    "        is_pareto_efficient(\n",
    "            _df[[\"unsigned_error_kcalmol\", \"wall_time\"]].to_numpy())\n",
    "    ).sort([\"relative_wall_time\", \"unsigned_error_kcalmol\"])\n",
    "    # print(_pf, color)\n",
    "    plt.plot(_pf[\"relative_wall_time\"], \n",
    "             _pf[\"unsigned_error_kcalmol\"], \n",
    "             zorder=-1,\n",
    "             linestyle=main_pareto_line_style,\n",
    "            c=theory_type_style_dict[v][1],\n",
    "             alpha=1,\n",
    "            )\n",
    "\n",
    "\n",
    "values_to_compare = df.filter(\n",
    "                 (pl.col(\"basis\") != REF_BASIS) & (pl.col(\"level_of_theory\") != REF_LOT)\n",
    "            )\n",
    "\n",
    "values_to_compare_pf = values_to_compare.filter(\n",
    "    is_pareto_efficient(\n",
    "        values_to_compare[[\"unsigned_error_kcalmol\", \"wall_time\"]].to_numpy())\n",
    ").sort([\"relative_wall_time\", \"unsigned_error_kcalmol\"])\n",
    "\n",
    "plt.plot(values_to_compare_pf[\"relative_wall_time\"], \n",
    "         values_to_compare_pf[\"unsigned_error_kcalmol\"], \n",
    "         zorder=-1,\n",
    "         linestyle=main_pareto_line_style,\n",
    "        c=main_pareto_front_color,\n",
    "         alpha=1,\n",
    "        )\n",
    "\n",
    "\n",
    "\n",
    "\n",
    "min_USEkcalmol = min(values_to_compare_pf[\"unsigned_error_kcalmol\"])\n",
    "\n",
    "min_USEkcalmol_rel_wall_time = values_to_compare_pf.filter(pl.col(\"unsigned_error_kcalmol\") == min_USEkcalmol)[\"relative_wall_time\"][0]\n",
    "\n",
    "ax = plt.gca()\n",
    "\n",
    "\n",
    "\n",
    "# for _ in values_to_compare_pf.iter_rows():\n",
    "\n",
    "zipped_vals = zip(*values_to_compare_pf[[\"theory_type\", \"relative_wall_time\", \"unsigned_error_kcalmol\", \"basis\", \"level_of_theory\"]])\n",
    "for theory, x, y, basis, level_of_theory in zipped_vals:\n",
    "    shift_ = 0\n",
    "    if theory == \"DHDFT\":\n",
    "        shift_ = 0.5    \n",
    "    ax.text(x + shift_/100, y + shift_*10**3, f\"{level_of_theory}/{basis}\", \n",
    "            horizontalalignment='right',\n",
    "            verticalalignment='top',\n",
    "            bbox=dict(boxstyle=\"round\",\n",
    "                   ec=theory_type_style_dict[theory][1],\n",
    "                   fc=theory_type_style_dict[theory][1],\n",
    "                     )\n",
    "           )\n",
    "\n",
    "ax.set_xscale(\"log\")\n",
    "ax.axhline(min_USEkcalmol, xmin=0.422, xmax=1, zorder=-1,\n",
    "           linestyle=main_pareto_line_style,\n",
    "        c=main_pareto_front_color,\n",
    "           alpha=1,\n",
    "        )\n",
    "\n",
    "\n",
    "\n",
    "ax.set_yscale(\"log\")\n",
    "ax.set_xlabel(\"Relative Walltime [a.u]\", fontsize=FONTSIZE)\n",
    "ax.set_ylabel(\"Absolute Error [kcal/mol]\", fontsize=FONTSIZE)\n",
    "\n",
    "from matplotlib.lines import Line2D\n",
    "from matplotlib.patches import Patch\n",
    "legend_elements = [Line2D([0], [0], color=theory_type_style_dict[v][1], lw=4, label=v) for v in df[\"theory_type\"].unique()]\n",
    "# # Create the figure\n",
    "# fig, ax = plt.subplots()\n",
    "ax.legend(handles=legend_elements, title=\"Pareto Frontiers\", loc='center left', bbox_to_anchor=(1, 0.5))\n",
    "plt.savefig(\"test2.pdf\", bbox_inches=\"tight\")"
   ]
  },
  {
   "cell_type": "code",
   "execution_count": 64,
   "id": "39c1dbf5-1e7c-4c98-80d2-20347404638b",
   "metadata": {},
   "outputs": [
    {
     "data": {
      "text/html": [
       "<div><style>\n",
       ".dataframe > thead > tr,\n",
       ".dataframe > tbody > tr {\n",
       "  text-align: right;\n",
       "  white-space: pre-wrap;\n",
       "}\n",
       "</style>\n",
       "<small>shape: (11, 13)</small><table border=\"1\" class=\"dataframe\"><thead><tr><th>name</th><th>software</th><th>wall_time</th><th>basis</th><th>level_of_theory</th><th>energy</th><th>nbasis</th><th>unsigned_error</th><th>signed_error</th><th>relative_wall_time</th><th>theory_type</th><th>unsigned_error_kcalmol</th><th>signed_error_kcalmol</th></tr><tr><td>str</td><td>str</td><td>f64</td><td>str</td><td>str</td><td>f64</td><td>i64</td><td>f64</td><td>f64</td><td>f64</td><td>str</td><td>f64</td><td>f64</td></tr></thead><tbody><tr><td>&quot;/cluster/home/schmidtn/master/…</td><td>&quot;gaussian&quot;</td><td>13.7</td><td>&quot;sto3g&quot;</td><td>&quot;hf&quot;</td><td>-24999.642933</td><td>118</td><td>410.637747</td><td>410.637747</td><td>0.000945</td><td>&quot;HF&quot;</td><td>9469.531483</td><td>9469.531483</td></tr><tr><td>&quot;/cluster/home/schmidtn/master/…</td><td>&quot;gaussian&quot;</td><td>19.5</td><td>&quot;sto3g&quot;</td><td>&quot;mp2&quot;</td><td>-25027.014006</td><td>118</td><td>383.266674</td><td>383.266674</td><td>0.001345</td><td>&quot;MP&quot;</td><td>8838.339546</td><td>8838.339546</td></tr><tr><td>&quot;/cluster/home/schmidtn/master/…</td><td>&quot;gaussian&quot;</td><td>162.0</td><td>&quot;sto3g&quot;</td><td>&quot;b2plyp&quot;</td><td>-25097.92736</td><td>118</td><td>312.35332</td><td>312.35332</td><td>0.011175</td><td>&quot;DHDFT&quot;</td><td>7203.038736</td><td>7203.038736</td></tr><tr><td>&quot;/cluster/home/schmidtn/master/…</td><td>&quot;gaussian&quot;</td><td>195.9</td><td>&quot;sto3g&quot;</td><td>&quot;camb3lyp&quot;</td><td>-25133.97434</td><td>118</td><td>276.30634</td><td>276.30634</td><td>0.013513</td><td>&quot;HDFT&quot;</td><td>6371.775616</td><td>6371.775616</td></tr><tr><td>&quot;/cluster/home/schmidtn/master/…</td><td>&quot;orca&quot;</td><td>278.528</td><td>&quot;sto3g&quot;</td><td>&quot;b973c&quot;</td><td>-25466.433325</td><td>450</td><td>56.152645</td><td>-56.152645</td><td>0.019213</td><td>&quot;HDFT&quot;</td><td>1294.910755</td><td>-1294.910755</td></tr><tr><td>&hellip;</td><td>&hellip;</td><td>&hellip;</td><td>&hellip;</td><td>&hellip;</td><td>&hellip;</td><td>&hellip;</td><td>&hellip;</td><td>&hellip;</td><td>&hellip;</td><td>&hellip;</td><td>&hellip;</td><td>&hellip;</td></tr><tr><td>&quot;/cluster/home/schmidtn/master/…</td><td>&quot;orca&quot;</td><td>542.433</td><td>&quot;def2svp&quot;</td><td>&quot;pbe0&quot;</td><td>-25430.438628</td><td>381</td><td>20.157948</td><td>-20.157948</td><td>0.037417</td><td>&quot;HDFT&quot;</td><td>464.853331</td><td>-464.853331</td></tr><tr><td>&quot;/cluster/home/schmidtn/master/…</td><td>&quot;orca&quot;</td><td>574.798</td><td>&quot;631+gd&quot;</td><td>&quot;PBEh-3c&quot;</td><td>-25422.929484</td><td>331</td><td>12.648804</td><td>-12.648804</td><td>0.03965</td><td>&quot;HDFT&quot;</td><td>291.688342</td><td>-291.688342</td></tr><tr><td>&quot;/cluster/home/schmidtn/master/…</td><td>&quot;orca&quot;</td><td>2554.216</td><td>&quot;631+gd&quot;</td><td>&quot;mp2&quot;</td><td>-25398.58219</td><td>388</td><td>11.69849</td><td>11.69849</td><td>0.17619</td><td>&quot;MP&quot;</td><td>269.773594</td><td>269.773594</td></tr><tr><td>&quot;/cluster/home/schmidtn/master/…</td><td>&quot;gaussian&quot;</td><td>2918.1</td><td>&quot;631+gd&quot;</td><td>&quot;mp2&quot;</td><td>-25399.533512</td><td>407</td><td>10.747168</td><td>10.747168</td><td>0.201291</td><td>&quot;MP&quot;</td><td>247.835592</td><td>247.835592</td></tr><tr><td>&quot;/cluster/home/schmidtn/master/…</td><td>&quot;gaussian&quot;</td><td>3120.1</td><td>&quot;def2svp&quot;</td><td>&quot;b2plyp&quot;</td><td>-25406.254485</td><td>381</td><td>4.026196</td><td>4.026196</td><td>0.215225</td><td>&quot;DHDFT&quot;</td><td>92.846278</td><td>92.846278</td></tr></tbody></table></div>"
      ],
      "text/plain": [
       "shape: (11, 13)\n",
       "┌────────────┬──────────┬───────────┬─────────┬───┬────────────┬───────────┬───────────┬───────────┐\n",
       "│ name       ┆ software ┆ wall_time ┆ basis   ┆ … ┆ relative_w ┆ theory_ty ┆ unsigned_ ┆ signed_er │\n",
       "│ ---        ┆ ---      ┆ ---       ┆ ---     ┆   ┆ all_time   ┆ pe        ┆ error_kca ┆ ror_kcalm │\n",
       "│ str        ┆ str      ┆ f64       ┆ str     ┆   ┆ ---        ┆ ---       ┆ lmol      ┆ ol        │\n",
       "│            ┆          ┆           ┆         ┆   ┆ f64        ┆ str       ┆ ---       ┆ ---       │\n",
       "│            ┆          ┆           ┆         ┆   ┆            ┆           ┆ f64       ┆ f64       │\n",
       "╞════════════╪══════════╪═══════════╪═════════╪═══╪════════════╪═══════════╪═══════════╪═══════════╡\n",
       "│ /cluster/h ┆ gaussian ┆ 13.7      ┆ sto3g   ┆ … ┆ 0.000945   ┆ HF        ┆ 9469.5314 ┆ 9469.5314 │\n",
       "│ ome/schmid ┆          ┆           ┆         ┆   ┆            ┆           ┆ 83        ┆ 83        │\n",
       "│ tn/master/ ┆          ┆           ┆         ┆   ┆            ┆           ┆           ┆           │\n",
       "│ …          ┆          ┆           ┆         ┆   ┆            ┆           ┆           ┆           │\n",
       "│ /cluster/h ┆ gaussian ┆ 19.5      ┆ sto3g   ┆ … ┆ 0.001345   ┆ MP        ┆ 8838.3395 ┆ 8838.3395 │\n",
       "│ ome/schmid ┆          ┆           ┆         ┆   ┆            ┆           ┆ 46        ┆ 46        │\n",
       "│ tn/master/ ┆          ┆           ┆         ┆   ┆            ┆           ┆           ┆           │\n",
       "│ …          ┆          ┆           ┆         ┆   ┆            ┆           ┆           ┆           │\n",
       "│ /cluster/h ┆ gaussian ┆ 162.0     ┆ sto3g   ┆ … ┆ 0.011175   ┆ DHDFT     ┆ 7203.0387 ┆ 7203.0387 │\n",
       "│ ome/schmid ┆          ┆           ┆         ┆   ┆            ┆           ┆ 36        ┆ 36        │\n",
       "│ tn/master/ ┆          ┆           ┆         ┆   ┆            ┆           ┆           ┆           │\n",
       "│ …          ┆          ┆           ┆         ┆   ┆            ┆           ┆           ┆           │\n",
       "│ /cluster/h ┆ gaussian ┆ 195.9     ┆ sto3g   ┆ … ┆ 0.013513   ┆ HDFT      ┆ 6371.7756 ┆ 6371.7756 │\n",
       "│ ome/schmid ┆          ┆           ┆         ┆   ┆            ┆           ┆ 16        ┆ 16        │\n",
       "│ tn/master/ ┆          ┆           ┆         ┆   ┆            ┆           ┆           ┆           │\n",
       "│ …          ┆          ┆           ┆         ┆   ┆            ┆           ┆           ┆           │\n",
       "│ /cluster/h ┆ orca     ┆ 278.528   ┆ sto3g   ┆ … ┆ 0.019213   ┆ HDFT      ┆ 1294.9107 ┆ -1294.910 │\n",
       "│ ome/schmid ┆          ┆           ┆         ┆   ┆            ┆           ┆ 55        ┆ 755       │\n",
       "│ tn/master/ ┆          ┆           ┆         ┆   ┆            ┆           ┆           ┆           │\n",
       "│ …          ┆          ┆           ┆         ┆   ┆            ┆           ┆           ┆           │\n",
       "│ …          ┆ …        ┆ …         ┆ …       ┆ … ┆ …          ┆ …         ┆ …         ┆ …         │\n",
       "│ /cluster/h ┆ orca     ┆ 542.433   ┆ def2svp ┆ … ┆ 0.037417   ┆ HDFT      ┆ 464.85333 ┆ -464.8533 │\n",
       "│ ome/schmid ┆          ┆           ┆         ┆   ┆            ┆           ┆ 1         ┆ 31        │\n",
       "│ tn/master/ ┆          ┆           ┆         ┆   ┆            ┆           ┆           ┆           │\n",
       "│ …          ┆          ┆           ┆         ┆   ┆            ┆           ┆           ┆           │\n",
       "│ /cluster/h ┆ orca     ┆ 574.798   ┆ 631+gd  ┆ … ┆ 0.03965    ┆ HDFT      ┆ 291.68834 ┆ -291.6883 │\n",
       "│ ome/schmid ┆          ┆           ┆         ┆   ┆            ┆           ┆ 2         ┆ 42        │\n",
       "│ tn/master/ ┆          ┆           ┆         ┆   ┆            ┆           ┆           ┆           │\n",
       "│ …          ┆          ┆           ┆         ┆   ┆            ┆           ┆           ┆           │\n",
       "│ /cluster/h ┆ orca     ┆ 2554.216  ┆ 631+gd  ┆ … ┆ 0.17619    ┆ MP        ┆ 269.77359 ┆ 269.77359 │\n",
       "│ ome/schmid ┆          ┆           ┆         ┆   ┆            ┆           ┆ 4         ┆ 4         │\n",
       "│ tn/master/ ┆          ┆           ┆         ┆   ┆            ┆           ┆           ┆           │\n",
       "│ …          ┆          ┆           ┆         ┆   ┆            ┆           ┆           ┆           │\n",
       "│ /cluster/h ┆ gaussian ┆ 2918.1    ┆ 631+gd  ┆ … ┆ 0.201291   ┆ MP        ┆ 247.83559 ┆ 247.83559 │\n",
       "│ ome/schmid ┆          ┆           ┆         ┆   ┆            ┆           ┆ 2         ┆ 2         │\n",
       "│ tn/master/ ┆          ┆           ┆         ┆   ┆            ┆           ┆           ┆           │\n",
       "│ …          ┆          ┆           ┆         ┆   ┆            ┆           ┆           ┆           │\n",
       "│ /cluster/h ┆ gaussian ┆ 3120.1    ┆ def2svp ┆ … ┆ 0.215225   ┆ DHDFT     ┆ 92.846278 ┆ 92.846278 │\n",
       "│ ome/schmid ┆          ┆           ┆         ┆   ┆            ┆           ┆           ┆           │\n",
       "│ tn/master/ ┆          ┆           ┆         ┆   ┆            ┆           ┆           ┆           │\n",
       "│ …          ┆          ┆           ┆         ┆   ┆            ┆           ┆           ┆           │\n",
       "└────────────┴──────────┴───────────┴─────────┴───┴────────────┴───────────┴───────────┴───────────┘"
      ]
     },
     "execution_count": 64,
     "metadata": {},
     "output_type": "execute_result"
    }
   ],
   "source": [
    "values_to_compare_pf"
   ]
  },
  {
   "cell_type": "markdown",
   "id": "0ee360f8-9056-4de9-811f-c7d3fb419d3f",
   "metadata": {},
   "source": [
    "##### plt.plot(values_to_compare_pf[\"relative_wall_time\"], values_to_compare_pf[\"unsigned_error_kcalmol\"])\n"
   ]
  },
  {
   "cell_type": "code",
   "execution_count": 65,
   "id": "5d663a7c-1f00-41f8-ace3-c363ab2c95e6",
   "metadata": {},
   "outputs": [
    {
     "data": {
      "text/html": [
       "<div><style>\n",
       ".dataframe > thead > tr,\n",
       ".dataframe > tbody > tr {\n",
       "  text-align: right;\n",
       "  white-space: pre-wrap;\n",
       "}\n",
       "</style>\n",
       "<small>shape: (11, 13)</small><table border=\"1\" class=\"dataframe\"><thead><tr><th>name</th><th>software</th><th>wall_time</th><th>basis</th><th>level_of_theory</th><th>energy</th><th>nbasis</th><th>unsigned_error</th><th>signed_error</th><th>relative_wall_time</th><th>theory_type</th><th>unsigned_error_kcalmol</th><th>signed_error_kcalmol</th></tr><tr><td>str</td><td>str</td><td>f64</td><td>str</td><td>str</td><td>f64</td><td>i64</td><td>f64</td><td>f64</td><td>f64</td><td>str</td><td>f64</td><td>f64</td></tr></thead><tbody><tr><td>&quot;/cluster/home/schmidtn/master/…</td><td>&quot;gaussian&quot;</td><td>13.7</td><td>&quot;sto3g&quot;</td><td>&quot;hf&quot;</td><td>-24999.642933</td><td>118</td><td>410.637747</td><td>410.637747</td><td>0.000945</td><td>&quot;HF&quot;</td><td>9469.531483</td><td>9469.531483</td></tr><tr><td>&quot;/cluster/home/schmidtn/master/…</td><td>&quot;gaussian&quot;</td><td>19.5</td><td>&quot;sto3g&quot;</td><td>&quot;mp2&quot;</td><td>-25027.014006</td><td>118</td><td>383.266674</td><td>383.266674</td><td>0.001345</td><td>&quot;MP&quot;</td><td>8838.339546</td><td>8838.339546</td></tr><tr><td>&quot;/cluster/home/schmidtn/master/…</td><td>&quot;gaussian&quot;</td><td>162.0</td><td>&quot;sto3g&quot;</td><td>&quot;b2plyp&quot;</td><td>-25097.92736</td><td>118</td><td>312.35332</td><td>312.35332</td><td>0.011175</td><td>&quot;DHDFT&quot;</td><td>7203.038736</td><td>7203.038736</td></tr><tr><td>&quot;/cluster/home/schmidtn/master/…</td><td>&quot;gaussian&quot;</td><td>195.9</td><td>&quot;sto3g&quot;</td><td>&quot;camb3lyp&quot;</td><td>-25133.97434</td><td>118</td><td>276.30634</td><td>276.30634</td><td>0.013513</td><td>&quot;HDFT&quot;</td><td>6371.775616</td><td>6371.775616</td></tr><tr><td>&quot;/cluster/home/schmidtn/master/…</td><td>&quot;orca&quot;</td><td>278.528</td><td>&quot;sto3g&quot;</td><td>&quot;b973c&quot;</td><td>-25466.433325</td><td>450</td><td>56.152645</td><td>-56.152645</td><td>0.019213</td><td>&quot;HDFT&quot;</td><td>1294.910755</td><td>-1294.910755</td></tr><tr><td>&hellip;</td><td>&hellip;</td><td>&hellip;</td><td>&hellip;</td><td>&hellip;</td><td>&hellip;</td><td>&hellip;</td><td>&hellip;</td><td>&hellip;</td><td>&hellip;</td><td>&hellip;</td><td>&hellip;</td><td>&hellip;</td></tr><tr><td>&quot;/cluster/home/schmidtn/master/…</td><td>&quot;orca&quot;</td><td>542.433</td><td>&quot;def2svp&quot;</td><td>&quot;pbe0&quot;</td><td>-25430.438628</td><td>381</td><td>20.157948</td><td>-20.157948</td><td>0.037417</td><td>&quot;HDFT&quot;</td><td>464.853331</td><td>-464.853331</td></tr><tr><td>&quot;/cluster/home/schmidtn/master/…</td><td>&quot;orca&quot;</td><td>574.798</td><td>&quot;631+gd&quot;</td><td>&quot;PBEh-3c&quot;</td><td>-25422.929484</td><td>331</td><td>12.648804</td><td>-12.648804</td><td>0.03965</td><td>&quot;HDFT&quot;</td><td>291.688342</td><td>-291.688342</td></tr><tr><td>&quot;/cluster/home/schmidtn/master/…</td><td>&quot;orca&quot;</td><td>2554.216</td><td>&quot;631+gd&quot;</td><td>&quot;mp2&quot;</td><td>-25398.58219</td><td>388</td><td>11.69849</td><td>11.69849</td><td>0.17619</td><td>&quot;MP&quot;</td><td>269.773594</td><td>269.773594</td></tr><tr><td>&quot;/cluster/home/schmidtn/master/…</td><td>&quot;gaussian&quot;</td><td>2918.1</td><td>&quot;631+gd&quot;</td><td>&quot;mp2&quot;</td><td>-25399.533512</td><td>407</td><td>10.747168</td><td>10.747168</td><td>0.201291</td><td>&quot;MP&quot;</td><td>247.835592</td><td>247.835592</td></tr><tr><td>&quot;/cluster/home/schmidtn/master/…</td><td>&quot;gaussian&quot;</td><td>3120.1</td><td>&quot;def2svp&quot;</td><td>&quot;b2plyp&quot;</td><td>-25406.254485</td><td>381</td><td>4.026196</td><td>4.026196</td><td>0.215225</td><td>&quot;DHDFT&quot;</td><td>92.846278</td><td>92.846278</td></tr></tbody></table></div>"
      ],
      "text/plain": [
       "shape: (11, 13)\n",
       "┌────────────┬──────────┬───────────┬─────────┬───┬────────────┬───────────┬───────────┬───────────┐\n",
       "│ name       ┆ software ┆ wall_time ┆ basis   ┆ … ┆ relative_w ┆ theory_ty ┆ unsigned_ ┆ signed_er │\n",
       "│ ---        ┆ ---      ┆ ---       ┆ ---     ┆   ┆ all_time   ┆ pe        ┆ error_kca ┆ ror_kcalm │\n",
       "│ str        ┆ str      ┆ f64       ┆ str     ┆   ┆ ---        ┆ ---       ┆ lmol      ┆ ol        │\n",
       "│            ┆          ┆           ┆         ┆   ┆ f64        ┆ str       ┆ ---       ┆ ---       │\n",
       "│            ┆          ┆           ┆         ┆   ┆            ┆           ┆ f64       ┆ f64       │\n",
       "╞════════════╪══════════╪═══════════╪═════════╪═══╪════════════╪═══════════╪═══════════╪═══════════╡\n",
       "│ /cluster/h ┆ gaussian ┆ 13.7      ┆ sto3g   ┆ … ┆ 0.000945   ┆ HF        ┆ 9469.5314 ┆ 9469.5314 │\n",
       "│ ome/schmid ┆          ┆           ┆         ┆   ┆            ┆           ┆ 83        ┆ 83        │\n",
       "│ tn/master/ ┆          ┆           ┆         ┆   ┆            ┆           ┆           ┆           │\n",
       "│ …          ┆          ┆           ┆         ┆   ┆            ┆           ┆           ┆           │\n",
       "│ /cluster/h ┆ gaussian ┆ 19.5      ┆ sto3g   ┆ … ┆ 0.001345   ┆ MP        ┆ 8838.3395 ┆ 8838.3395 │\n",
       "│ ome/schmid ┆          ┆           ┆         ┆   ┆            ┆           ┆ 46        ┆ 46        │\n",
       "│ tn/master/ ┆          ┆           ┆         ┆   ┆            ┆           ┆           ┆           │\n",
       "│ …          ┆          ┆           ┆         ┆   ┆            ┆           ┆           ┆           │\n",
       "│ /cluster/h ┆ gaussian ┆ 162.0     ┆ sto3g   ┆ … ┆ 0.011175   ┆ DHDFT     ┆ 7203.0387 ┆ 7203.0387 │\n",
       "│ ome/schmid ┆          ┆           ┆         ┆   ┆            ┆           ┆ 36        ┆ 36        │\n",
       "│ tn/master/ ┆          ┆           ┆         ┆   ┆            ┆           ┆           ┆           │\n",
       "│ …          ┆          ┆           ┆         ┆   ┆            ┆           ┆           ┆           │\n",
       "│ /cluster/h ┆ gaussian ┆ 195.9     ┆ sto3g   ┆ … ┆ 0.013513   ┆ HDFT      ┆ 6371.7756 ┆ 6371.7756 │\n",
       "│ ome/schmid ┆          ┆           ┆         ┆   ┆            ┆           ┆ 16        ┆ 16        │\n",
       "│ tn/master/ ┆          ┆           ┆         ┆   ┆            ┆           ┆           ┆           │\n",
       "│ …          ┆          ┆           ┆         ┆   ┆            ┆           ┆           ┆           │\n",
       "│ /cluster/h ┆ orca     ┆ 278.528   ┆ sto3g   ┆ … ┆ 0.019213   ┆ HDFT      ┆ 1294.9107 ┆ -1294.910 │\n",
       "│ ome/schmid ┆          ┆           ┆         ┆   ┆            ┆           ┆ 55        ┆ 755       │\n",
       "│ tn/master/ ┆          ┆           ┆         ┆   ┆            ┆           ┆           ┆           │\n",
       "│ …          ┆          ┆           ┆         ┆   ┆            ┆           ┆           ┆           │\n",
       "│ …          ┆ …        ┆ …         ┆ …       ┆ … ┆ …          ┆ …         ┆ …         ┆ …         │\n",
       "│ /cluster/h ┆ orca     ┆ 542.433   ┆ def2svp ┆ … ┆ 0.037417   ┆ HDFT      ┆ 464.85333 ┆ -464.8533 │\n",
       "│ ome/schmid ┆          ┆           ┆         ┆   ┆            ┆           ┆ 1         ┆ 31        │\n",
       "│ tn/master/ ┆          ┆           ┆         ┆   ┆            ┆           ┆           ┆           │\n",
       "│ …          ┆          ┆           ┆         ┆   ┆            ┆           ┆           ┆           │\n",
       "│ /cluster/h ┆ orca     ┆ 574.798   ┆ 631+gd  ┆ … ┆ 0.03965    ┆ HDFT      ┆ 291.68834 ┆ -291.6883 │\n",
       "│ ome/schmid ┆          ┆           ┆         ┆   ┆            ┆           ┆ 2         ┆ 42        │\n",
       "│ tn/master/ ┆          ┆           ┆         ┆   ┆            ┆           ┆           ┆           │\n",
       "│ …          ┆          ┆           ┆         ┆   ┆            ┆           ┆           ┆           │\n",
       "│ /cluster/h ┆ orca     ┆ 2554.216  ┆ 631+gd  ┆ … ┆ 0.17619    ┆ MP        ┆ 269.77359 ┆ 269.77359 │\n",
       "│ ome/schmid ┆          ┆           ┆         ┆   ┆            ┆           ┆ 4         ┆ 4         │\n",
       "│ tn/master/ ┆          ┆           ┆         ┆   ┆            ┆           ┆           ┆           │\n",
       "│ …          ┆          ┆           ┆         ┆   ┆            ┆           ┆           ┆           │\n",
       "│ /cluster/h ┆ gaussian ┆ 2918.1    ┆ 631+gd  ┆ … ┆ 0.201291   ┆ MP        ┆ 247.83559 ┆ 247.83559 │\n",
       "│ ome/schmid ┆          ┆           ┆         ┆   ┆            ┆           ┆ 2         ┆ 2         │\n",
       "│ tn/master/ ┆          ┆           ┆         ┆   ┆            ┆           ┆           ┆           │\n",
       "│ …          ┆          ┆           ┆         ┆   ┆            ┆           ┆           ┆           │\n",
       "│ /cluster/h ┆ gaussian ┆ 3120.1    ┆ def2svp ┆ … ┆ 0.215225   ┆ DHDFT     ┆ 92.846278 ┆ 92.846278 │\n",
       "│ ome/schmid ┆          ┆           ┆         ┆   ┆            ┆           ┆           ┆           │\n",
       "│ tn/master/ ┆          ┆           ┆         ┆   ┆            ┆           ┆           ┆           │\n",
       "│ …          ┆          ┆           ┆         ┆   ┆            ┆           ┆           ┆           │\n",
       "└────────────┴──────────┴───────────┴─────────┴───┴────────────┴───────────┴───────────┴───────────┘"
      ]
     },
     "execution_count": 65,
     "metadata": {},
     "output_type": "execute_result"
    }
   ],
   "source": [
    "values_to_compare_pf"
   ]
  },
  {
   "cell_type": "code",
   "execution_count": 17,
   "id": "1fecd92c-ab10-4504-bf2c-96d76349a3b0",
   "metadata": {},
   "outputs": [
    {
     "ename": "NameError",
     "evalue": "name 'values_to_compare_pf' is not defined",
     "output_type": "error",
     "traceback": [
      "\u001b[0;31m---------------------------------------------------------------------------\u001b[0m",
      "\u001b[0;31mNameError\u001b[0m                                 Traceback (most recent call last)",
      "Cell \u001b[0;32mIn[17], line 1\u001b[0m\n\u001b[0;32m----> 1\u001b[0m \u001b[38;5;28;01mfor\u001b[39;00m theory, x, y, basis, method \u001b[38;5;129;01min\u001b[39;00m \u001b[38;5;28mzip\u001b[39m(\u001b[38;5;241m*\u001b[39m\u001b[43mvalues_to_compare_pf\u001b[49m[[\u001b[38;5;124m\"\u001b[39m\u001b[38;5;124mtheory_type\u001b[39m\u001b[38;5;124m\"\u001b[39m, \u001b[38;5;124m\"\u001b[39m\u001b[38;5;124mrelative_wall_time\u001b[39m\u001b[38;5;124m\"\u001b[39m, \u001b[38;5;124m\"\u001b[39m\u001b[38;5;124munsigned_error_kcalmol\u001b[39m\u001b[38;5;124m\"\u001b[39m, \u001b[38;5;124m\"\u001b[39m\u001b[38;5;124mbasis\u001b[39m\u001b[38;5;124m\"\u001b[39m, \u001b[38;5;124m\"\u001b[39m\u001b[38;5;124mlevel_of_theory\u001b[39m\u001b[38;5;124m\"\u001b[39m]]):\n\u001b[1;32m      2\u001b[0m     \u001b[38;5;28mprint\u001b[39m(theory, x, y, basis, method)\n",
      "\u001b[0;31mNameError\u001b[0m: name 'values_to_compare_pf' is not defined"
     ]
    }
   ],
   "source": [
    "for theory, x, y, basis, method in zip(*values_to_compare_pf[[\"theory_type\", \"relative_wall_time\", \"unsigned_error_kcalmol\", \"basis\", \"level_of_theory\"]]):\n",
    "    print(theory, x, y, basis, method)"
   ]
  },
  {
   "cell_type": "code",
   "execution_count": 68,
   "id": "566500a2-bd43-4e18-a2f7-bd3d40b47eaf",
   "metadata": {},
   "outputs": [
    {
     "data": {
      "text/html": [
       "<div><style>\n",
       ".dataframe > thead > tr,\n",
       ".dataframe > tbody > tr {\n",
       "  text-align: right;\n",
       "  white-space: pre-wrap;\n",
       "}\n",
       "</style>\n",
       "<small>shape: (9, 2)</small><table border=\"1\" class=\"dataframe\"><thead><tr><th>statistic</th><th>value</th></tr><tr><td>str</td><td>f64</td></tr></thead><tbody><tr><td>&quot;count&quot;</td><td>41.0</td></tr><tr><td>&quot;null_count&quot;</td><td>0.0</td></tr><tr><td>&quot;mean&quot;</td><td>3574.519512</td></tr><tr><td>&quot;std&quot;</td><td>4174.457369</td></tr><tr><td>&quot;min&quot;</td><td>13.7</td></tr><tr><td>&quot;25%&quot;</td><td>822.0</td></tr><tr><td>&quot;50%&quot;</td><td>2098.5</td></tr><tr><td>&quot;75%&quot;</td><td>4825.7</td></tr><tr><td>&quot;max&quot;</td><td>19182.6</td></tr></tbody></table></div>"
      ],
      "text/plain": [
       "shape: (9, 2)\n",
       "┌────────────┬─────────────┐\n",
       "│ statistic  ┆ value       │\n",
       "│ ---        ┆ ---         │\n",
       "│ str        ┆ f64         │\n",
       "╞════════════╪═════════════╡\n",
       "│ count      ┆ 41.0        │\n",
       "│ null_count ┆ 0.0         │\n",
       "│ mean       ┆ 3574.519512 │\n",
       "│ std        ┆ 4174.457369 │\n",
       "│ min        ┆ 13.7        │\n",
       "│ 25%        ┆ 822.0       │\n",
       "│ 50%        ┆ 2098.5      │\n",
       "│ 75%        ┆ 4825.7      │\n",
       "│ max        ┆ 19182.6     │\n",
       "└────────────┴─────────────┘"
      ]
     },
     "execution_count": 68,
     "metadata": {},
     "output_type": "execute_result"
    }
   ],
   "source": [
    "df.filter(\n",
    "    (pl.col(\"software\") == \"gaussian\") #& (pl.col(\"nbasis\") > 0) #& pl.col(\"basis\").str.contains(\"\\+\\+\") \n",
    ")[\"wall_time\"].describe()"
   ]
  },
  {
   "cell_type": "code",
   "execution_count": 87,
   "id": "5b9d95ab-4056-46b2-b102-fa72c06c0adc",
   "metadata": {},
   "outputs": [
    {
     "data": {
      "text/plain": [
       "Text(0.5, 0, 'log Number of basis functions')"
      ]
     },
     "execution_count": 87,
     "metadata": {},
     "output_type": "execute_result"
    },
    {
     "data": {
      "image/png": "[encoded data removed]",
      "text/plain": [
       "<Figure size 640x480 with 1 Axes>"
      ]
     },
     "metadata": {},
     "output_type": "display_data"
    }
   ],
   "source": [
    "import numpy as np\n",
    "\n",
    "plt.scatter(np.log(df[\"nbasis\"]), np.log(df[\"wall_time\"]), c=[\"r\" if _ == \"orca\" else \"b\" for _ in df[\"software\"]])\n",
    "# plt.xscale(\"log\")\n",
    "# plt.yscale(\"log\")\n",
    "plt.ylabel(\"log Walltime [s]\")\n",
    "plt.xlabel(\"log Number of basis functions\")"
   ]
  },
  {
   "cell_type": "code",
   "execution_count": 80,
   "id": "db49098c-8573-485b-a8da-676e0ec0facf",
   "metadata": {},
   "outputs": [],
   "source": [
    "from scipy.stats import linregress"
   ]
  },
  {
   "cell_type": "code",
   "execution_count": 101,
   "id": "401ae053-e216-4d37-9978-0a67a2175965",
   "metadata": {},
   "outputs": [
    {
     "name": "stdout",
     "output_type": "stream",
     "text": [
      "1.871660809778196 -3.7842055245098036\n",
      "1.0181379646029864 0.4851429373314895\n"
     ]
    },
    {
     "data": {
      "text/plain": [
       "(0.0, 5.0)"
      ]
     },
     "execution_count": 101,
     "metadata": {},
     "output_type": "execute_result"
    },
    {
     "data": {
      "image/png": "[encoded data removed]",
      "text/plain": [
       "<Figure size 640x480 with 1 Axes>"
      ]
     },
     "metadata": {},
     "output_type": "display_data"
    }
   ],
   "source": [
    "TYPE = \"HDFT\"\n",
    "_ = df.filter(\n",
    "    (pl.col(\"software\") == \"gaussian\") & (pl.col(\"theory_type\") == TYPE) #& pl.col(\"basis\").str.contains(\"\\+\\+\") \n",
    ")\n",
    "slope, intercept, r, p, se = linregress(np.log(_[\"nbasis\"]), np.log(_[\"wall_time\"]))\n",
    "print(slope, intercept)\n",
    "plt.scatter(np.log10(_[\"nbasis\"]), np.log10(_[\"wall_time\"]), c=[\"r\" if x == \"orca\" else \"b\" for x in _[\"software\"]])\n",
    "# plt.xscale(\"log\")\n",
    "# plt.yscale(\"log\")\n",
    "plt.ylabel(\"log Walltime [s]\")\n",
    "plt.xlabel(\"log Number of basis functions\")\n",
    "plt.ylim(0, 10)\n",
    "_ = df.filter(\n",
    "    (pl.col(\"software\") == \"orca\") & (pl.col(\"theory_type\") == TYPE) #& (pl.col(\"nbasis\") > 0) #& pl.col(\"basis\").str.contains(\"\\+\\+\") \n",
    ")\n",
    "slope, intercept, r, p, se = linregress(np.log(_[\"nbasis\"]), np.log(_[\"wall_time\"]))\n",
    "print(slope, intercept)\n",
    "plt.scatter(np.log10(_[\"nbasis\"]), np.log10(_[\"wall_time\"]), c=[\"r\" if x == \"orca\" else \"b\" for x in _[\"software\"]])\n",
    "# plt.xscale(\"log\")\n",
    "# plt.yscale(\"log\")\n",
    "plt.ylabel(\"log Walltime [s]\")\n",
    "plt.xlabel(\"log Number of basis functions\")\n",
    "plt.ylim(0, 5)\n"
   ]
  },
  {
   "cell_type": "code",
   "execution_count": 98,
   "id": "bb4e1aa8-bf17-4486-94ac-50c399e7a865",
   "metadata": {},
   "outputs": [
    {
     "name": "stdout",
     "output_type": "stream",
     "text": [
      "nan nan\n",
      "2.3640788886566946 -4.3666931048773385\n"
     ]
    },
    {
     "name": "stderr",
     "output_type": "stream",
     "text": [
      "/cluster/home/schmidtn/master/wahlprak/dftmp2bench/.venv/lib/python3.10/site-packages/scipy/stats/_stats_py.py:10729: RuntimeWarning: invalid value encountered in scalar divide\n",
      "  slope = ssxym / ssxm\n",
      "/cluster/home/schmidtn/master/wahlprak/dftmp2bench/.venv/lib/python3.10/site-packages/scipy/stats/_stats_py.py:10743: RuntimeWarning: invalid value encountered in sqrt\n",
      "  t = r * np.sqrt(df / ((1.0 - r + TINY)*(1.0 + r + TINY)))\n",
      "/cluster/home/schmidtn/master/wahlprak/dftmp2bench/.venv/lib/python3.10/site-packages/scipy/stats/_stats_py.py:10749: RuntimeWarning: invalid value encountered in scalar divide\n",
      "  slope_stderr = np.sqrt((1 - r**2) * ssym / ssxm / df)\n"
     ]
    },
    {
     "data": {
      "text/plain": [
       "(0.0, 10.0)"
      ]
     },
     "execution_count": 98,
     "metadata": {},
     "output_type": "execute_result"
    },
    {
     "data": {
      "image/png": "[encoded data removed]",
      "text/plain": [
       "<Figure size 640x480 with 1 Axes>"
      ]
     },
     "metadata": {},
     "output_type": "display_data"
    }
   ],
   "source": [
    "TYPE = \"CC\"\n",
    "_ = df.filter(\n",
    "    (pl.col(\"software\") == \"gaussian\") & (pl.col(\"theory_type\") == TYPE) #& pl.col(\"basis\").str.contains(\"\\+\\+\") \n",
    ")\n",
    "slope, intercept, r, p, se = linregress(np.log(_[\"nbasis\"]), np.log(_[\"wall_time\"]))\n",
    "print(slope, intercept)\n",
    "plt.scatter(np.log(_[\"nbasis\"]), np.log(_[\"wall_time\"]), c=[\"r\" if x == \"orca\" else \"b\" for x in _[\"software\"]])\n",
    "# plt.xscale(\"log\")\n",
    "# plt.yscale(\"log\")\n",
    "plt.ylabel(\"log Walltime [s]\")\n",
    "plt.xlabel(\"log Number of basis functions\")\n",
    "plt.ylim(0, 10)\n",
    "_ = df.filter(\n",
    "    (pl.col(\"software\") == \"orca\") & (pl.col(\"theory_type\") == TYPE) #& (pl.col(\"nbasis\") > 0) #& pl.col(\"basis\").str.contains(\"\\+\\+\") \n",
    ")\n",
    "slope, intercept, r, p, se = linregress(np.log(_[\"nbasis\"]), np.log(_[\"wall_time\"]))\n",
    "print(slope, intercept)\n",
    "plt.scatter(np.log10(_[\"nbasis\"]), np.log10(_[\"wall_time\"]), c=[\"r\" if x == \"orca\" else \"b\" for x in _[\"software\"]])\n",
    "# plt.xscale(\"log\")\n",
    "# plt.yscale(\"log\")\n",
    "plt.ylabel(\"log Walltime [s]\")\n",
    "plt.xlabel(\"log Number of basis functions\")\n",
    "plt.ylim(0, 10)"
   ]
  },
  {
   "cell_type": "code",
   "execution_count": null,
   "id": "73fc4edc-19e0-4478-8182-99750b3f2718",
   "metadata": {},
   "outputs": [],
   "source": []
  }
 ],
 "metadata": {
  "kernelspec": {
   "display_name": "dftmp2bench",
   "language": "python",
   "name": "dft2mp2bench"
  },
  "language_info": {
   "codemirror_mode": {
    "name": "ipython",
    "version": 3
   },
   "file_extension": ".py",
   "mimetype": "text/x-python",
   "name": "python",
   "nbconvert_exporter": "python",
   "pygments_lexer": "ipython3",
   "version": "3.10.12"
  }
 },
 "nbformat": 4,
 "nbformat_minor": 5
}
